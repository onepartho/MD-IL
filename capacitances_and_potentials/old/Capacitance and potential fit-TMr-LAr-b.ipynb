{
 "cells": [
  {
   "cell_type": "code",
   "execution_count": 6,
   "metadata": {
    "collapsed": false
   },
   "outputs": [],
   "source": [
    "import numpy as np\n",
    "import pandas as pd\n",
    "from scipy import stats\n",
    "import scipy as sp\n",
    "import os,csv\n",
    "import statsmodels.api as sm\n",
    "from scipy import interpolate\n",
    "\n",
    "# === Matplotlib ===\n",
    "%matplotlib inline\n",
    "import matplotlib\n",
    "import matplotlib.pyplot as plt\n",
    "from matplotlib import rcParams\n",
    "\n",
    "# === Plot size ===\n",
    "WIDTH = 5\n",
    "rcParams['figure.figsize'] = WIDTH, WIDTH\n",
    "rcParams['figure.dpi'] = 300\n",
    "\n",
    "# === Color map ====\n",
    "rcParams['image.cmap'] = 'gray'\n",
    "rcParams['image.interpolation'] = 'none'\n",
    "\n",
    "# === Axes Style ===\n",
    "rcParams['axes.labelsize'] = 18\n",
    "rcParams['axes.titlesize'] = 22\n",
    "rcParams['axes.labelweight'] = 'normal'\n",
    "#rcParams['axes.facecolor'] = 'f2f2f2'\n",
    "rcParams['axes.edgecolor'] = '444444' # GREY\n",
    "rcParams['axes.axisbelow'] = True\n",
    "rcParams['axes.labelcolor'] = '444444' # GREY\n",
    "\n",
    "# === Font Style ===\n",
    "rcParams['font.size'] = 15\n",
    "\n",
    "# === Legend Style ===\n",
    "rcParams['legend.fontsize'] = 'medium'\n",
    "rcParams['legend.frameon'] = True\n",
    "rcParams['legend.numpoints'] = 3\n",
    "\n",
    "# === Tick Style ===\n",
    "rcParams['xtick.major.pad'] = 4\n",
    "rcParams['xtick.major.width'] = 1\n",
    "rcParams['xtick.color'] = '444444' # GREY\n",
    "\n",
    "rcParams['ytick.major.pad'] = 5\n",
    "rcParams['ytick.major.width'] = 1\n",
    "rcParams['ytick.color'] = '444444' # GREY\n",
    "\n",
    "rcParams['lines.linewidth'] = 2\n",
    "\n",
    "# === Grid Style ===\n",
    "rcParams['axes.grid'] = False\n",
    "rcParams['grid.linestyle'] = '--'\n",
    "rcParams['grid.alpha'] = .25\n",
    "rcParams['grid.color'] = '444444'\n",
    "rcParams['grid.linewidth'] = 2\n",
    "\n",
    "\n",
    "color_wheel = ['#332288', # blue\n",
    "'#CC6677', # red\n",
    "'#117733', # green\n",
    "'#88CCEE', # light blue\n",
    "'#44AA99',\n",
    "'#999933',\n",
    "'#882255',\n",
    "'#DDCC77',\n",
    "'#AA4499']\n",
    "# == Colors ===\n",
    "rcParams['axes.prop_cycle'] = plt.cycler('color', color_wheel)\n",
    "\n",
    "pd.set_option('display.max_columns', 100)"
   ]
  },
  {
   "cell_type": "code",
   "execution_count": 7,
   "metadata": {
    "collapsed": true
   },
   "outputs": [],
   "source": [
    "k = 1.9872041E-3  # kcal/mol/K\n",
    "rho = 0.03332819694513222\n",
    "el_chg = 1.60217662e-19 #coulomb\n",
    "Na = 6.02214129e23\n",
    "epsilon0 =  8.854187817e-12  #F/m\n",
    "eps0 = 5.5268e-2  # e/V/nm\n",
    "kcal_eV = 2.611448e22  # kcal/(eV)"
   ]
  },
  {
   "cell_type": "markdown",
   "metadata": {},
   "source": [
    "# Functions"
   ]
  },
  {
   "cell_type": "code",
   "execution_count": 8,
   "metadata": {
    "collapsed": false
   },
   "outputs": [],
   "source": [
    "def find_array_minimum_point(z_coord, array, z_min, z_max):\n",
    "    from scipy import interpolate\n",
    "    midpoint = 0.5*(z_min+z_max)\n",
    "    array_itp = interpolate.interp1d(z_coord, array, kind='linear')\n",
    "    fun = lambda closest_to_0 : abs(array_itp(closest_to_0)[0])\n",
    "    bounds = [(z_min, z_max)]\n",
    "    x = sp.optimize.minimize(fun, midpoint, bounds=bounds)\n",
    "    #print x\n",
    "    return x.x[0]\n",
    "\n",
    "\n",
    "def lpot_rpot(z_coord, pot, z_mid1=4, z_mid2=6, z_end=10, field=None):\n",
    "    \"\"\" If field is provided, defines midpoint as a place where field is closest to 0\"\"\"\n",
    "    if np.any(field):\n",
    "        smallest_field = find_array_minimum_point(field[:,0], field[:,1], z_mid1, z_mid2)\n",
    "        mid_pot = np.mean(pot[z_coord <= smallest_field])\n",
    "    else:\n",
    "        mask = (z_coord > z_mid1) & (z_coord < z_mid2)\n",
    "        mid_pot = np.mean(pot[mask])\n",
    "    end_pot = np.mean(pot[z_coord > z_end])\n",
    "    return mid_pot, end_pot - mid_pot\n",
    "\n",
    "def num_derivC(pot, chg):\n",
    "    \"\"\" Central difference numerical deriv using numpy.\"\"\"\n",
    "    dchg = np.gradient(chg)\n",
    "    dpot = np.gradient(pot)\n",
    "    return dchg/dpot\n",
    "\n",
    "# Smoothing functions\n",
    "\n",
    "from scipy.signal import butter, filtfilt\n",
    "\n",
    "def butter_lowpass(cutoff, fs, order=5):\n",
    "    nyq = 0.5 * fs\n",
    "    normal_cutoff = cutoff / nyq\n",
    "    b, a = butter(order, normal_cutoff, btype='low', analog=False)\n",
    "    return b, a\n",
    "\n",
    "def butter_lowpass_filtfilt(data, cutoff, fs, order=5):\n",
    "    \"\"\"http://stackoverflow.com/questions/28536191/how-to-filter-smooth-with-scipy-numpy\"\"\"\n",
    "    b, a = butter_lowpass(cutoff, fs, order=order)\n",
    "    y = filtfilt(b, a, data)\n",
    "    return y\n",
    "\n",
    "def smooth(x,window_len=11,window='hanning'):\n",
    "    \"\"\"http://scipy-cookbook.readthedocs.io/items/SignalSmooth.html\"\"\"\n",
    "    s=np.r_[x[window_len-1:0:-1],x,x[-1:-window_len:-1]]\n",
    "    #print(len(s))\n",
    "    if window == 'flat': #moving average\n",
    "        w=np.ones(window_len,'d')\n",
    "    else:\n",
    "        w=eval('np.'+window+'(window_len)')\n",
    "    y=np.convolve(w/w.sum(),s,mode='valid')\n",
    "    return y\n",
    "\n",
    "\n",
    "def savitzky_golay(y, window_size, order, deriv=0, rate=1):\n",
    "    r\"\"\"Smooth (and optionally differentiate) data with a Savitzky-Golay filter.\n",
    "    The Savitzky-Golay filter removes high frequency noise from data.\n",
    "    It has the advantage of preserving the original shape and\n",
    "    features of the signal better than other types of filtering\n",
    "    approaches, such as moving averages techniques.\n",
    "    y : array_like, shape (N,)\n",
    "        the values of the time history of the signal.\n",
    "    window_size : int\n",
    "        the length of the window. Must be an odd integer number.\n",
    "    order : int\n",
    "        the order of the polynomial used in the filtering.\n",
    "        Must be less then `window_size` - 1.\n",
    "    deriv: int\n",
    "        the order of the derivative to compute (default = 0 means only smoothing)\n",
    "    ys : ndarray, shape (N)\n",
    "        the smoothed signal (or it's n-th derivative).\n",
    "    \"\"\"\n",
    "    import numpy as np\n",
    "    from math import factorial\n",
    "    try:\n",
    "        window_size = np.abs(np.int(window_size))\n",
    "        order = np.abs(np.int(order))\n",
    "    except ValueError, msg:\n",
    "        raise ValueError(\"window_size and order have to be of type int\")\n",
    "    if window_size % 2 != 1 or window_size < 1:\n",
    "        raise TypeError(\"window_size size must be a positive odd number\")\n",
    "    if window_size < order + 2:\n",
    "        raise TypeError(\"window_size is too small for the polynomials order\")\n",
    "    order_range = range(order+1)\n",
    "    half_window = (window_size -1) // 2\n",
    "    # precompute coefficients\n",
    "    b = np.mat([[k**i for i in order_range] for k in range(-half_window, half_window+1)])\n",
    "    m = np.linalg.pinv(b).A[deriv] * rate**deriv * factorial(deriv)\n",
    "    # pad the signal at the extremes with\n",
    "    # values taken from the signal itself\n",
    "    firstvals = y[0] - np.abs( y[1:half_window+1][::-1] - y[0] )\n",
    "    lastvals = y[-1] + np.abs(y[-half_window-1:-1][::-1] - y[-1])\n",
    "    y = np.concatenate((firstvals, y, lastvals))\n",
    "    return np.convolve( m[::-1], y, mode='valid')\n"
   ]
  },
  {
   "cell_type": "markdown",
   "metadata": {},
   "source": [
    "# Load potentials"
   ]
  },
  {
   "cell_type": "code",
   "execution_count": 9,
   "metadata": {
    "collapsed": false
   },
   "outputs": [
    {
     "ename": "OSError",
     "evalue": "[Errno 2] No such file or directory: '../vlad_simulations/Hr/TMr/LAr/400/b'",
     "output_type": "error",
     "traceback": [
      "\u001b[0;31m\u001b[0m",
      "\u001b[0;31mOSError\u001b[0mTraceback (most recent call last)",
      "\u001b[0;32m<ipython-input-9-06c7c66e6bfa>\u001b[0m in \u001b[0;36m<module>\u001b[0;34m()\u001b[0m\n\u001b[1;32m      1\u001b[0m \u001b[0mbase_path\u001b[0m \u001b[0;34m=\u001b[0m \u001b[0;34m'../vlad_simulations/Hr/TMr/LAr/400/b'\u001b[0m\u001b[0;34m\u001b[0m\u001b[0m\n\u001b[1;32m      2\u001b[0m \u001b[0;34m\u001b[0m\u001b[0m\n\u001b[0;32m----> 3\u001b[0;31m surf_chgs = [dirs for dirs in os.listdir(base_path) \n\u001b[0m\u001b[1;32m      4\u001b[0m               if os.path.isdir(os.path.join(base_path, dirs)) and '.' in dirs and float(dirs) < 32]\n\u001b[1;32m      5\u001b[0m \u001b[0msurf_chgs\u001b[0m \u001b[0;34m=\u001b[0m \u001b[0msorted\u001b[0m\u001b[0;34m(\u001b[0m\u001b[0msurf_chgs\u001b[0m\u001b[0;34m,\u001b[0m \u001b[0mkey\u001b[0m\u001b[0;34m=\u001b[0m\u001b[0mfloat\u001b[0m\u001b[0;34m)\u001b[0m\u001b[0;34m\u001b[0m\u001b[0m\n",
      "\u001b[0;31mOSError\u001b[0m: [Errno 2] No such file or directory: '../vlad_simulations/Hr/TMr/LAr/400/b'"
     ]
    }
   ],
   "source": [
    "base_path = '../vlad_simulations/Hr/TMr/LAr/400/b'\n",
    "\n",
    "surf_chgs = [dirs for dirs in os.listdir(base_path) \n",
    "              if os.path.isdir(os.path.join(base_path, dirs)) and '.' in dirs and float(dirs) < 32]\n",
    "surf_chgs = sorted(surf_chgs, key=float)\n",
    "\n",
    "## remove last 3\n",
    "# surf_chgs = surf_chgs[:-3]\n",
    "\n",
    "potentials   = []\n",
    "pot_name = 'potential.xvg'\n",
    "field_name = 'field.xvg'\n",
    "generic_data_path = base_path + '/{surf_chg}/{replica}/'\n",
    "\n",
    "for surf_chg in surf_chgs:\n",
    "    chg_pots = []\n",
    "    for replica in ['0']:\n",
    "        try:\n",
    "            #print 'Analyzing chg: {}, replica {}'.format(surf_chg, replica)\n",
    "            p = os.path.join(generic_data_path.format(surf_chg=surf_chg, replica=replica), pot_name)\n",
    "            pot = np.loadtxt(p, comments=['#','@'])\n",
    "            p = os.path.join(generic_data_path.format(surf_chg=surf_chg, replica=replica), field_name)\n",
    "            field = np.loadtxt(p, comments=['#','@'])\n",
    "            z = field[:,0]\n",
    "            z_dist = z[-1]\n",
    "            z_min = z_dist/2.0 - 1\n",
    "            z_max = z_dist/2.0 + 1\n",
    "            lr_pots = lpot_rpot(pot[:,0], pot[:,1], field=field, z_mid1=z_min, z_mid2=z_max, z_end=z_dist-.05)\n",
    "        except IOError:\n",
    "            print surf_chg, replica, 'is missing',p\n",
    "            lr_pots = [np.NaN, np.NaN]\n",
    "        chg_pots.append(lr_pots)\n",
    "    potentials.append(chg_pots)\n",
    "potentials = np.array(potentials)"
   ]
  },
  {
   "cell_type": "code",
   "execution_count": 5,
   "metadata": {
    "collapsed": false
   },
   "outputs": [
    {
     "ename": "NameError",
     "evalue": "name 'surf_chgs' is not defined",
     "output_type": "error",
     "traceback": [
      "\u001b[0;31m\u001b[0m",
      "\u001b[0;31mNameError\u001b[0mTraceback (most recent call last)",
      "\u001b[0;32m<ipython-input-5-4fb721609504>\u001b[0m in \u001b[0;36m<module>\u001b[0;34m()\u001b[0m\n\u001b[1;32m     15\u001b[0m \u001b[0;34m\u001b[0m\u001b[0m\n\u001b[1;32m     16\u001b[0m \u001b[0;31m# Average out replicas\u001b[0m\u001b[0;34m\u001b[0m\u001b[0;34m\u001b[0m\u001b[0m\n\u001b[0;32m---> 17\u001b[0;31m \u001b[0mchgs\u001b[0m \u001b[0;34m=\u001b[0m \u001b[0mnp\u001b[0m\u001b[0;34m.\u001b[0m\u001b[0marray\u001b[0m\u001b[0;34m(\u001b[0m\u001b[0msurf_chgs\u001b[0m\u001b[0;34m,\u001b[0m \u001b[0mdtype\u001b[0m\u001b[0;34m=\u001b[0m\u001b[0mfloat\u001b[0m\u001b[0;34m)\u001b[0m\u001b[0;34m\u001b[0m\u001b[0m\n\u001b[0m\u001b[1;32m     18\u001b[0m \u001b[0mchgs\u001b[0m \u001b[0;34m=\u001b[0m \u001b[0mnp\u001b[0m\u001b[0;34m.\u001b[0m\u001b[0mhstack\u001b[0m\u001b[0;34m(\u001b[0m\u001b[0;34m[\u001b[0m\u001b[0;34m-\u001b[0m\u001b[0mchgs\u001b[0m\u001b[0;34m[\u001b[0m\u001b[0;34m:\u001b[0m\u001b[0;34m:\u001b[0m\u001b[0;34m-\u001b[0m\u001b[0;36m1\u001b[0m\u001b[0;34m]\u001b[0m\u001b[0;34m,\u001b[0m \u001b[0mchgs\u001b[0m\u001b[0;34m]\u001b[0m\u001b[0;34m)\u001b[0m\u001b[0;34m\u001b[0m\u001b[0m\n\u001b[1;32m     19\u001b[0m \u001b[0maveraged_potentials\u001b[0m \u001b[0;34m=\u001b[0m \u001b[0mnp\u001b[0m\u001b[0;34m.\u001b[0m\u001b[0mmean\u001b[0m\u001b[0;34m(\u001b[0m\u001b[0mpotentials\u001b[0m\u001b[0;34m,\u001b[0m\u001b[0maxis\u001b[0m\u001b[0;34m=\u001b[0m\u001b[0;36m1\u001b[0m\u001b[0;34m)\u001b[0m\u001b[0;34m\u001b[0m\u001b[0m\n",
      "\u001b[0;31mNameError\u001b[0m: name 'surf_chgs' is not defined"
     ]
    }
   ],
   "source": [
    "# Keep all potentials\n",
    "# chgs = np.array(surf_chgs, dtype=float)\n",
    "# chgs = np.hstack([-chgs[::-1], chgs])\n",
    "# chgs = np.c_[chgs,chgs,chgs]\n",
    "# chgs_replicas = chgs.copy()\n",
    "# chgs = chgs.flatten()\n",
    "# potentials_replicas = potentials.copy()\n",
    "# potentials_replicas = np.vstack([np.flipud(potentials_replicas[:,:,1]), -potentials_replicas[:,:,0]])\n",
    "# num_of_potentials = len(chgs)/2\n",
    "# potentials = potentials.reshape(num_of_potentials,2)\n",
    "# potentials = np.hstack([potentials[:,1][::-1], -potentials[:,0]])\n",
    "# # average 0\n",
    "# #potentials[chgs==0.0] = np.mean(potentials[chgs==0.0])\n",
    "# gromacs_data = np.c_[potentials, chgs]\n",
    "\n",
    "# Average out replicas\n",
    "chgs = np.array(surf_chgs, dtype=float)\n",
    "chgs = np.hstack([-chgs[::-1], chgs])\n",
    "averaged_potentials = np.mean(potentials,axis=1)\n",
    "averaged_potentials = np.hstack([averaged_potentials[:,1][::-1], -averaged_potentials[:,0]])\n",
    "gromacs_data = np.c_[averaged_potentials, chgs]"
   ]
  },
  {
   "cell_type": "markdown",
   "metadata": {},
   "source": [
    "# Capacitance calculations"
   ]
  },
  {
   "cell_type": "markdown",
   "metadata": {},
   "source": [
    "### Smoothing pot/chg"
   ]
  },
  {
   "cell_type": "code",
   "execution_count": 6,
   "metadata": {
    "collapsed": false
   },
   "outputs": [],
   "source": [
    "# remove outlier\n",
    "# print gromacs_data.shape\n",
    "# gromacs_data =np.vstack((gromacs_data[:6,:], gromacs_data[7:-7,:], gromacs_data[-6:, :]))\n",
    "\n",
    "# print gromacs_data.shape"
   ]
  },
  {
   "cell_type": "code",
   "execution_count": 7,
   "metadata": {
    "collapsed": false,
    "scrolled": true
   },
   "outputs": [
    {
     "data": {
      "text/plain": [
       "<matplotlib.legend.Legend at 0x7fa375983110>"
      ]
     },
     "execution_count": 7,
     "metadata": {},
     "output_type": "execute_result"
    },
    {
     "data": {
      "image/png": "[encoded data removed]",
      "text/plain": [
       "<matplotlib.figure.Figure at 0x7fa375936690>"
      ]
     },
     "metadata": {},
     "output_type": "display_data"
    }
   ],
   "source": [
    "pot, chg = gromacs_data[:,0], gromacs_data[:,1]\n",
    "plt.plot(pot, chg,'o', label='gromacs', alpha=.5)\n",
    "\n",
    "# interpolate to increase point size\n",
    "# and regularize grid\n",
    "chg_itp = np.linspace(chg.min(),chg.max(), 1000)\n",
    "pot_itp = interpolate.interp1d(chg,pot, kind='linear')\n",
    "pot_itp = pot_itp(chg_itp)\n",
    "plt.plot(pot_itp, chg_itp , label='itp', alpha=.5)\n",
    "\n",
    "\n",
    "# smooth using Locally Weighted Scatterplot Smoothing\n",
    "# averages points in regions, it and frac are parameters that can \n",
    "# be varied if needed.\n",
    "from statsmodels.nonparametric.smoothers_lowess import lowess\n",
    "it=3   # doesn't seem to do much\n",
    "frac=.3 # fraction of data used for each y\n",
    "#lowess_chg = lowess(chg, pot, frac=frac, it=it, return_sorted=False)\n",
    "lowess_pot = lowess(pot_itp, chg_itp, frac=frac, it=it, return_sorted=False)\n",
    "plt.plot(lowess_pot, chg_itp, '-', label='lowess')\n",
    "\n",
    "# smooth using moving average\n",
    "from scipy.signal import savgol_filter\n",
    "window_size, poly_order = 101, 1\n",
    "sg_pot = savitzky_golay(pot_itp, window_size, poly_order)\n",
    "plt.plot(sg_pot, chg_itp, label='savitzky_golay')\n",
    "\n",
    "# filtfilt (high-pass filter), applied in two directions\n",
    "cutoff = 50\n",
    "fs = 10000\n",
    "filtfilt_pot = butter_lowpass_filtfilt(pot_itp, cutoff, fs)\n",
    "plt.plot(filtfilt_pot, chg_itp, '-', label='filtfilt')\n",
    "\n",
    "# # pchip interpolation\n",
    "# pchip_pot = sp.interpolate.pchip_interpolate(chg, pot, chg_itp)\n",
    "# plt.plot(pchip_pot, chg_itp, '-', label='pchip')\n",
    "\n",
    "\n",
    "##### Convolution #####\n",
    "# fine conv\n",
    "windows=['flat', 'hanning', 'hamming', 'bartlett', 'blackman']\n",
    "ws=71\n",
    "w = windows[2]\n",
    "# longer extrapolation\n",
    "dchg = chg_itp[1]-chg_itp[0]\n",
    "chg_itp_long = np.arange(-200,200,dchg)\n",
    "# do extrapolation\n",
    "pot_itp_long_f = sp.interpolate.InterpolatedUnivariateSpline(chg_itp, pot_itp, k=1)\n",
    "pot_itp_long = pot_itp_long_f(chg_itp_long)\n",
    "llimit = (ws-1)/2\n",
    "rlimit = ws-1 - llimit\n",
    "conv_pot = smooth(pot_itp_long, window_len=ws, window=w)[llimit:-rlimit]\n",
    "# go back to normal\n",
    "conv_pot = conv_pot[(chg_itp_long > chg_itp[0]-dchg/2.0) & (chg_itp_long < chg_itp[-1]+dchg/2.0)]\n",
    "\n",
    "# coarse conv\n",
    "ws=271\n",
    "w = windows[2]\n",
    "llimit = (ws-1)/2\n",
    "rlimit = ws-1 - llimit\n",
    "conv_pot2 = smooth(pot_itp_long, window_len=ws, window=w)[llimit:-rlimit]\n",
    "# go back to normal\n",
    "conv_pot2 = conv_pot2[(chg_itp_long > chg_itp[0]-dchg/2.0) & (chg_itp_long < chg_itp[-1]+dchg/2.0)]\n",
    "\n",
    "# merge two potentials at two different points\n",
    "chg_left = -2.5\n",
    "chg_right= 2.5\n",
    "sigma1 =  1. / (1 + np.exp(-(chg_itp - chg_left) / 5.0));\n",
    "sigma2 =  1. / (1 + np.exp(-(chg_itp - chg_right) / 5.0));\n",
    "merged = (1-sigma1) * conv_pot2 + sigma1 * conv_pot\n",
    "merged = (1-sigma2) * merged+ sigma2*conv_pot2\n",
    "\n",
    "conv_pot = merged\n",
    "plt.plot(conv_pot, chg_itp, '-', label='conv')\n",
    "\n",
    "\n",
    "\n",
    "plt.xlabel('U (V)')\n",
    "plt.ylabel(r'$\\sigma$ $(\\mathrm{mC\\cdot cm^{-2}})$')\n",
    "plt.legend(loc='best')"
   ]
  },
  {
   "cell_type": "code",
   "execution_count": 8,
   "metadata": {
    "collapsed": false
   },
   "outputs": [
    {
     "data": {
      "text/plain": [
       "<matplotlib.text.Text at 0x7fa375934ed0>"
      ]
     },
     "execution_count": 8,
     "metadata": {},
     "output_type": "execute_result"
    },
    {
     "data": {
      "image/png": "[encoded data removed]",
      "text/plain": [
       "<matplotlib.figure.Figure at 0x7fa3759e9090>"
      ]
     },
     "metadata": {},
     "output_type": "display_data"
    }
   ],
   "source": [
    "# Numerical derivative\n",
    "\n",
    "\n",
    "fig, (ax1,ax2) = plt.subplots(1, 2, figsize=(12,5), sharey=True)\n",
    "for name, m_pot in zip(['itp', 'low', 'sg', 'filt', 'conv'],\n",
    "                        [pot_itp, lowess_pot, sg_pot, filtfilt_pot, conv_pot]):\n",
    "    deriv = num_derivC(m_pot, chg_itp)\n",
    "    alpha=1.0\n",
    "    if name=='itp': alpha=.1\n",
    "    ax1.plot(m_pot, deriv, '-', alpha=alpha, label=name)\n",
    "    ax2.plot(m_pot, deriv, '-', alpha=alpha, label=name)\n",
    "    #fig.show()\n",
    "    \n",
    "ax1.set_xlim(-3.5,3.5)\n",
    "ax1.set_ylim(0,7)\n",
    "#ax2.set_xlim(-25,15)\n",
    "#ax1.legend(loc='best')\n",
    "ax2.legend(loc='best')\n",
    "ax1.set_xlabel('$U$ $(V)$')\n",
    "ax2.set_xlabel('$U$ $(V)$')\n",
    "ax1.set_ylabel(r'$C$ $(\\mathrm{mF\\cdot cm^{-2}})$')"
   ]
  },
  {
   "cell_type": "code",
   "execution_count": 9,
   "metadata": {
    "collapsed": false
   },
   "outputs": [],
   "source": [
    "chg_pot_cap = np.c_[chg_itp, conv_pot, num_derivC(conv_pot, chg_itp)]\n",
    "#\n",
    "#np.savetxt('../data/chg_pot_cap_450.txt', chg_pot_cap)"
   ]
  },
  {
   "cell_type": "code",
   "execution_count": 10,
   "metadata": {
    "collapsed": false
   },
   "outputs": [
    {
     "data": {
      "text/plain": [
       "[<matplotlib.lines.Line2D at 0x7fa371c0fd90>]"
      ]
     },
     "execution_count": 10,
     "metadata": {},
     "output_type": "execute_result"
    },
    {
     "data": {
      "image/png": "[encoded data removed]",
      "text/plain": [
       "<matplotlib.figure.Figure at 0x7fa3759a0e50>"
      ]
     },
     "metadata": {},
     "output_type": "display_data"
    }
   ],
   "source": [
    "plt.plot(conv_pot,chg_itp,  label='fit')\n",
    "plt.plot(pot,chg, '.', label='data')\n",
    "plt.legend(loc='best')\n",
    "plt.xlabel('U (V)')\n",
    "plt.ylabel(r'$\\sigma$ $(\\mathrm{\\mu C\\cdot cm^{-2}})$')\n",
    "mask = (chg_itp >= 42.00) & (chg_itp <= 58.00)\n",
    "mask2 = (chg_itp <= -42.00) & (chg_itp >= -58.00)\n",
    "plt.plot(conv_pot[mask2], chg_itp[mask2], '--',color='r', lw=3)\n",
    "#plt.savefig('../gfx/u_sigma.png',dpi=300)\n",
    "#plt.xlim(-10,10)\n",
    "#plt.ylim(-16,40)"
   ]
  },
  {
   "cell_type": "code",
   "execution_count": 11,
   "metadata": {
    "collapsed": false
   },
   "outputs": [
    {
     "ename": "NameError",
     "evalue": "name 'chg_pot_cap' is not defined",
     "output_type": "error",
     "traceback": [
      "\u001b[0;31m\u001b[0m",
      "\u001b[0;31mNameError\u001b[0mTraceback (most recent call last)",
      "\u001b[0;32m<ipython-input-11-8875c57f3b51>\u001b[0m in \u001b[0;36m<module>\u001b[0;34m()\u001b[0m\n\u001b[0;32m----> 1\u001b[0;31m \u001b[0mplt\u001b[0m\u001b[0;34m.\u001b[0m\u001b[0mplot\u001b[0m\u001b[0;34m(\u001b[0m\u001b[0mchg_pot_cap\u001b[0m\u001b[0;34m[\u001b[0m\u001b[0;34m:\u001b[0m\u001b[0;34m,\u001b[0m\u001b[0;36m1\u001b[0m\u001b[0;34m]\u001b[0m\u001b[0;34m,\u001b[0m\u001b[0mchg_pot_cap\u001b[0m\u001b[0;34m[\u001b[0m\u001b[0;34m:\u001b[0m\u001b[0;34m,\u001b[0m\u001b[0;36m2\u001b[0m\u001b[0;34m]\u001b[0m\u001b[0;34m,\u001b[0m  \u001b[0mlabel\u001b[0m\u001b[0;34m=\u001b[0m\u001b[0;34m'fit'\u001b[0m\u001b[0;34m)\u001b[0m\u001b[0;34m\u001b[0m\u001b[0m\n\u001b[0m\u001b[1;32m      2\u001b[0m \u001b[0mplt\u001b[0m\u001b[0;34m.\u001b[0m\u001b[0mlegend\u001b[0m\u001b[0;34m(\u001b[0m\u001b[0mloc\u001b[0m\u001b[0;34m=\u001b[0m\u001b[0;34m'best'\u001b[0m\u001b[0;34m)\u001b[0m\u001b[0;34m\u001b[0m\u001b[0m\n\u001b[1;32m      3\u001b[0m \u001b[0mplt\u001b[0m\u001b[0;34m.\u001b[0m\u001b[0mxlabel\u001b[0m\u001b[0;34m(\u001b[0m\u001b[0;34m'U (V)'\u001b[0m\u001b[0;34m)\u001b[0m\u001b[0;34m\u001b[0m\u001b[0m\n\u001b[1;32m      4\u001b[0m \u001b[0mplt\u001b[0m\u001b[0;34m.\u001b[0m\u001b[0mylabel\u001b[0m\u001b[0;34m(\u001b[0m\u001b[0;34mr'$C$ $(\\mathrm{\\mu F\\cdot cm^{-2}})$'\u001b[0m\u001b[0;34m)\u001b[0m\u001b[0;34m\u001b[0m\u001b[0m\n\u001b[1;32m      5\u001b[0m \u001b[0;31m#plt.savefig('../gfx/u_pot.png',dpi=300)\u001b[0m\u001b[0;34m\u001b[0m\u001b[0;34m\u001b[0m\u001b[0m\n",
      "\u001b[0;31mNameError\u001b[0m: name 'chg_pot_cap' is not defined"
     ]
    }
   ],
   "source": [
    "plt.plot(chg_pot_cap[:,1],chg_pot_cap[:,2],  label='fit')\n",
    "plt.legend(loc='best')\n",
    "plt.xlabel('U (V)')\n",
    "plt.ylabel(r'$C$ $(\\mathrm{\\mu F\\cdot cm^{-2}})$')\n",
    "#plt.savefig('../gfx/u_pot.png',dpi=300)\n",
    "\n",
    "print 'Capacitance maximum: {}'.format(np.amax(chg_pot_cap[:,2]))\n",
    "print 'Corresponding charge: {}'.format(chg_pot_cap[:,0][np.argmax(chg_pot_cap[:,2])])\n",
    "print 'Corresponding potential: {}'.format(chg_pot_cap[:,1][np.argmax(chg_pot_cap[:,2])])\n",
    "\n"
   ]
  },
  {
   "cell_type": "markdown",
   "metadata": {},
   "source": [
    "# Fit function"
   ]
  },
  {
   "cell_type": "markdown",
   "metadata": {},
   "source": [
    "### fitting cation"
   ]
  },
  {
   "cell_type": "code",
   "execution_count": null,
   "metadata": {
    "collapsed": false
   },
   "outputs": [],
   "source": [
    "plt.plot(gromacs_data[:,0],gromacs_data[:,1],'o-')\n",
    "plt.plot(conv_pot,chg_itp,'-')"
   ]
  },
  {
   "cell_type": "code",
   "execution_count": null,
   "metadata": {
    "collapsed": false
   },
   "outputs": [],
   "source": [
    "U0 = .15        # V\n",
    "U_max_c = -1.27877117e+01\n",
    "theta_max_c = 40\n",
    "\n",
    "\n",
    "def sigma_fit(u, theta_max, gamma, a0):\n",
    "    exponential_term  = a0 + (1 - a0)*np.exp(-gamma*u**2)\n",
    "    return np.r_[(theta_max*(-u)**(exponential_term))[u<0],-(theta_max*u**(exponential_term))[u>=0]]\n",
    "\n",
    "\n",
    "def fit_c(x, sigma, U):\n",
    "    \"\"\"\n",
    "    Cation fit objective function\n",
    "    \n",
    "    x : list\n",
    "        Contains: U_max_c (V), gamma_c, a0_c\n",
    "    \"\"\"\n",
    "    gamma_c, a0_c = x\n",
    "    u = (U - U0)/U_max_c\n",
    "    sigma_fit_c = sigma_fit(u, theta_max_c, gamma_c, a0_c)\n",
    "    inv_dist_from_kappa = 1./(np.sqrt(np.abs(sigma_fit(u, theta_max_c, gamma_c, a0_c)+theta_max_c))+1)\n",
    "    return np.sum(np.abs(sigma-sigma_fit_c)**(2)*inv_dist_from_kappa)\n",
    "\n",
    "\n",
    "# Define fit region\n",
    "# sigma_c_fit = gromacs_data[:,1][gromacs_data[:,1] > 30]\n",
    "# U_c_fit = gromacs_data[:,0][gromacs_data[:,1] > 30]\n",
    "sigma_c_fit = chg_itp[chg_itp < -30]\n",
    "U_c_fit = conv_pot[chg_itp < -30]\n",
    "\n",
    "\n",
    "# initial guess\n",
    "# gamma, a0\n",
    "x0 = [  2.02, 0.62]\n",
    "\n",
    "res = sp.optimize.minimize(fit_c, x0, args=(sigma_c_fit, U_c_fit), bounds=[(0,100000), (0.5, 1)],\n",
    "                          options={'ftol' : np.finfo(float).eps})\n",
    "print res\n",
    "#x  = res.x\n",
    "x = res.x\n",
    "\n",
    "u = (U_c_fit-U0)/U_max_c\n",
    "plt.plot(U_c_fit, sigma_c_fit,'-o', label='data')\n",
    "plt.plot(U_c_fit, sigma_fit(u, theta_max_c, x[0], x[1]), '-', label='fit')\n",
    "plt.plot(U_c_fit, sigma_fit(u, theta_max_c, x0[0], x0[1]), '--', label='fit0')\n",
    "\n",
    "plt.xlabel('sigma microC/cm2')\n",
    "plt.ylabel('U V')\n",
    "plt.legend(loc='best')"
   ]
  },
  {
   "cell_type": "code",
   "execution_count": null,
   "metadata": {
    "collapsed": false
   },
   "outputs": [],
   "source": [
    "U0 = .15          # V\n",
    "U_max_a =  8.64749511e+00\n",
    "theta_max_a = -16  # microC/cm^2\n",
    "\n",
    "def sigma_fit(u, theta_max, gamma, a0):\n",
    "    exponential_term  = a0 + (1 - a0)*np.exp(-gamma*u**2)\n",
    "    return np.r_[(theta_max*(-u)**(exponential_term))[u<0],-(theta_max*u**(exponential_term))[u>=0]]\n",
    "\n",
    "\n",
    "def fit_a(x, sigma, U):\n",
    "    \"\"\"\n",
    "    Cation fit objective function\n",
    "    \n",
    "    x : list\n",
    "        Contains:  gamma_a, a0_a\n",
    "    \"\"\"\n",
    "    gamma_a, a0_a = x\n",
    "    u = (U - U0)/U_max_a\n",
    "    sigma_fit_a = sigma_fit(u, theta_max_a, gamma_a, a0_a)\n",
    "    inv_dist_from_kappa = 1./(np.sqrt(np.abs(sigma_fit(u, theta_max_a, gamma_a, a0_a)+theta_max_a))+1)\n",
    "    return np.sum(np.abs(sigma-sigma_fit_a)**(2)*inv_dist_from_kappa)\n",
    "\n",
    "\n",
    "# Define fit region\n",
    "# sigma_c_fit = gromacs_data[:,1][gromacs_data[:,1] > 30]\n",
    "# U_c_fit = gromacs_data[:,0][gromacs_data[:,1] > 30]\n",
    "sigma_a_fit = chg_itp[chg_itp > 10]\n",
    "U_a_fit = pot_itp[chg_itp > 10]\n",
    "\n",
    "\n",
    "# initial guess\n",
    "# gamma, a0\n",
    "x0 = [  2, 0.7]\n",
    "\n",
    "res = sp.optimize.minimize(fit_a, x0, args=(sigma_a_fit, U_a_fit), bounds=[(0,100000), (0.5, 1)],\n",
    "                          options={'ftol' : np.finfo(float).eps})\n",
    "print res\n",
    "#x  = res.x\n",
    "x = res.x\n",
    "\n",
    "u = (U_a_fit-U0)/U_max_a\n",
    "plt.plot(U_a_fit, sigma_a_fit,'-o', label='data')\n",
    "plt.plot(U_a_fit, sigma_fit(u, theta_max_a, x[0], x[1]), '-', label='fit')\n",
    "plt.plot(U_a_fit, sigma_fit(u, theta_max_a, x0[0], x0[1]), '--', label='fit0')\n",
    "\n",
    "plt.xlabel('sigma microC/cm2')\n",
    "plt.ylabel('U V')\n",
    "plt.legend(loc='best')"
   ]
  },
  {
   "cell_type": "code",
   "execution_count": null,
   "metadata": {
    "collapsed": false
   },
   "outputs": [],
   "source": [
    "def sigma_fit(u, theta_max, gamma, a0):\n",
    "    exponential_term  = a0 + (1 - a0)*np.exp(-gamma*u**2)\n",
    "    return np.r_[(theta_max*(-u)**(exponential_term))[u<0],-(theta_max*u**(exponential_term))[u>=0]]\n",
    "\n",
    "\n",
    "\n",
    "# data\n",
    "U0 = .15          # V\n",
    "U_max_a =  8.64749511e+00\n",
    "U_max_c =  1.27877117e+01\n",
    "theta_max_a = -16  # microC/cm^2\n",
    "theta_max_c = 40#60#  # microC/cm^2\n",
    "\n",
    "# fitted values\n",
    "gamma_c = 1.90891538\n",
    "a0_c = 0.61969294\n",
    "gamma_a = 43.52760518\n",
    "a0_a = 0.71859516\n",
    "\n",
    "# individual capacitances\n",
    "#U_fit = np.linspace(-80, 40, num=1000)\n",
    "U_fit, dU = np.linspace(-80, 80, num=1000, retstep=True)\n",
    "u_a = (U_fit-U0)/U_max_a\n",
    "u_c = (U_fit-U0)/U_max_c\n",
    "\n",
    "sigma_a = sigma_fit(u_a, theta_max_a, gamma_a, a0_a)\n",
    "sigma_c = -sigma_fit(u_c, theta_max_c, gamma_c, a0_c)\n",
    "C_a = np.gradient(sigma_a, dU)\n",
    "C_c = np.gradient(sigma_c, dU)\n",
    "\n",
    "# combination of capacitances\n",
    "gamma_ac = (max(gamma_c, gamma_a)/min(gamma_c, gamma_a))**(1./2)\n",
    "C_h = 0.5*(C_a+C_c)+ 0.5*(np.tanh(gamma_ac*u_a)*C_a-np.tanh(gamma_ac*u_c)*C_c)\n",
    "\n",
    "# smoothing\n",
    "window = sp.signal.gaussian(400, 20)\n",
    "# convolve the arrays\n",
    "sC_h = sp.signal.convolve(C_h, window/window.sum(), mode='same')\n",
    "\n",
    "fig, (ax1,ax2) = plt.subplots(ncols=2,figsize=(7,3.25))\n",
    "\n",
    "ax1.plot(U_fit, sigma_a, label='A')\n",
    "ax1.plot(U_fit, sigma_c, label='C')\n",
    "ax1.plot(chg_pot_cap[:,1],chg_pot_cap[:,0],'--',label='data',lw=5)\n",
    "ax1.set_xlabel('$U$ $V$')\n",
    "ax1.set_xlim(-60,60)\n",
    "ax1.set_ylabel('$\\sigma$ $\\mu C/cm^2$')\n",
    "ax1.legend(loc='best', fontsize=11)\n",
    "ax1.locator_params(axis = 'x',nbins=5)\n",
    "\n",
    "#ax2.plot(U_fit, C_a, label='C-a',alpha=.3)\n",
    "#ax2.plot(U_fit, C_c, label='C-c', alpha=.3)\n",
    "ax2.plot(U_fit, C_h, label='C', color=color_wheel[3])\n",
    "ax2.plot(U_fit, sC_h, label='C sm', color=color_wheel[5])\n",
    "ax2.plot(conv_pot,chg_pot_cap[:,2], '--',lw=5,  label='data',color=color_wheel[2])\n",
    "\n",
    "ax2.set_xlim(-15, 15)\n",
    "ax2.set_xlabel('$U$ $V$')\n",
    "ax2.set_ylabel(r'$C$ $(\\mathrm{\\mu F\\cdot cm^{-2}})$')\n",
    "ax2.locator_params(axis = 'x',nbins=5)\n",
    "\n",
    "ax2.legend(loc='best', fontsize=11)\n",
    "\n",
    "fig.tight_layout()\n",
    "#fig.savefig('../gfx/estimated_cap.png',dpi=300)"
   ]
  },
  {
   "cell_type": "code",
   "execution_count": null,
   "metadata": {
    "collapsed": false
   },
   "outputs": [],
   "source": [
    "fig, (ax1) = plt.subplots(ncols=1,figsize=(7,7))\n",
    "\n",
    "ax1.plot(U_fit, sigma_a, label='A')\n",
    "ax1.plot(U_fit, sigma_c, label='C')\n",
    "ax1.plot(gromacs_data[:,0],gromacs_data[:,1],'o',label='data',lw=5)\n",
    "ax1.set_xlabel('$U$ $V$')\n",
    "ax1.set_xlim(-40,40)\n",
    "ax1.set_ylim(-130,130)\n",
    "ax1.set_ylabel('$\\sigma$ $\\mu C/cm^2$')\n",
    "ax1.legend(loc='best', fontsize=11)\n",
    "ax1.locator_params(axis = 'x',nbins=5)\n",
    "\n",
    "interp = sp.interpolate.InterpolatedUnivariateSpline(U_fit, sC_h, k=1)\n",
    "x_interp = np.linspace(-20, 20, num=1000)\n",
    "interp = interp.antiderivative()\n",
    "sigma_s = interp(x_interp) \n",
    "ax1.plot(x_interp, sigma_s - 130)"
   ]
  },
  {
   "cell_type": "code",
   "execution_count": null,
   "metadata": {
    "collapsed": false
   },
   "outputs": [],
   "source": [
    "\n",
    "plt.figure(figsize=(3.25,3.25))\n",
    "plt.xlim(-10, 10)\n",
    "plt.xlabel('$U$ $V$')\n",
    "plt.ylabel(r'$C$ $(\\mathrm{\\mu F\\cdot cm^{-2}})$')\n",
    "#plt.plot(U_fit, C_h, '-', label='C-h',alpha=.1,color='k')\n",
    "#plt.plot(conv_pot,chg_pot_cap[:,2],'-' , label='fit',alpha=.1,color='k')\n",
    "\n",
    "import matplotlib.colors as colors\n",
    "import matplotlib.cm as cmx\n",
    "values = range(10)\n",
    "cmap = plt.cm.cool \n",
    "line_colors = cmap(np.linspace(0,1,5))\n",
    "\n",
    "smoothing_factor = [0.5, 1,  2.5, 5, 10]\n",
    "for i in range(len(smoothing_factor)):\n",
    "    # smoothing\n",
    "    window = sp.signal.gaussian(400, smoothing_factor[i])\n",
    "    # convolve the arrays\n",
    "    sC_h = sp.signal.convolve(C_h, window/window.sum(), mode='same')\n",
    "    plt.plot(U_fit, sC_h,label='sC-h'+str(smoothing_factor), alpha=1, color=line_colors[i])\n",
    "\n",
    "\n",
    "# plt.plot(U_fit, sigma_a, label='A')\n",
    "# plt.plot(U_fit, sigma_c, label='C')\n",
    "# plt.xlabel('reduced V')\n",
    "# plt.ylabel('sigma microC/cm2')\n",
    "# plt.legend(loc='best')\n",
    "\n",
    "# plt.show()\n",
    "#plt.plot(U_fit, C_a, label='C-a')\n",
    "#plt.plot(U_fit, C_c, label='C-c')\n",
    "plt.tight_layout()\n",
    "#plt.savefig('../gfx/smoothing_factor.png',dpi=300)"
   ]
  },
  {
   "cell_type": "code",
   "execution_count": null,
   "metadata": {
    "collapsed": false
   },
   "outputs": [],
   "source": [
    "# data\n",
    "U0 = .17          # V\n",
    "U_max_a =  2.92238593e+01\n",
    "U_max_c =  1.48911278e+01#-2.64117427e+01#\n",
    "theta_max_a = -98  # microC/cm^2\n",
    "theta_max_c = 40#60#  # microC/cm^2\n",
    "\n",
    "# fitted values\n",
    "gamma_c = 1.6230877\n",
    "a0_c = 0.68479482\n",
    "gamma_a = 162.01022641\n",
    "a0_a = 0.71178643\n",
    "\n",
    "\n",
    "u = np.linspace(-2, 2,1000)\n",
    "plt.plot(u*U_max_a, a0_a + (1-a0_a)*np.exp(-gamma_a*u**2))\n",
    "plt.xlim(-10,10)"
   ]
  },
  {
   "cell_type": "code",
   "execution_count": null,
   "metadata": {
    "collapsed": false
   },
   "outputs": [],
   "source": [
    "# data\n",
    "U0 = .17          # V\n",
    "U_max_a =  2.92238593e+01\n",
    "U_max_c =  1.48911278e+01#-2.64117427e+01#\n",
    "theta_max_a = -98  # microC/cm^2\n",
    "theta_max_c = 40#60#  # microC/cm^2\n",
    "\n",
    "# fitted values\n",
    "gamma_c = 1.6230877\n",
    "a0_c = 0.68479482\n",
    "gamma_a = 162.01022641\n",
    "a0_a = 0.71178643\n",
    "\n",
    "\n",
    "u = np.linspace(-2, 2,1000)\n",
    "plt.plot(u*U_max_c, a0_c + (1-a0_c)*np.exp(-gamma_c*u**2))\n",
    "#plt.xlim(-10,10)"
   ]
  },
  {
   "cell_type": "markdown",
   "metadata": {},
   "source": [
    "# Calculating a"
   ]
  },
  {
   "cell_type": "code",
   "execution_count": null,
   "metadata": {
    "collapsed": false
   },
   "outputs": [],
   "source": [
    "sigma_r = np.r_[(chg_pot_cap[:,0]/theta_max_c)[chg_pot_cap[:,0]<=0], -(chg_pot_cap[:,0]/theta_max_a)[chg_pot_cap[:,0]>0]]\n",
    "u_r = np.r_[(chg_pot_cap[:,1]/U_max_c)[chg_pot_cap[:,0]<=0], (chg_pot_cap[:,1]/U_max_a)[chg_pot_cap[:,0]>0]]"
   ]
  },
  {
   "cell_type": "code",
   "execution_count": null,
   "metadata": {
    "collapsed": false
   },
   "outputs": [],
   "source": [
    "sigma_r = (chg_pot_cap[:,0]/theta_max_c)[chg_pot_cap[:,0]<=0]\n",
    "u_r  = (chg_pot_cap[:,1]/U_max_c)[chg_pot_cap[:,0]<=0]\n",
    "\n",
    "# plt.plot(u_r, sigma_r)\n",
    "# plt.show()\n",
    "plt.plot(u_r, a0_c + (1-a0_c)*np.exp(-gamma_c*-u_r*2))\n",
    "\n",
    "plt.plot(u_r, np.log(-sigma_r)/np.log(-u_r))\n",
    "# plt.xlim(-1.3,0)\n",
    "plt.ylim(0,1)"
   ]
  },
  {
   "cell_type": "code",
   "execution_count": null,
   "metadata": {
    "collapsed": false
   },
   "outputs": [],
   "source": [
    "sigma_r = -(chg_pot_cap[:,0]/theta_max_a)[chg_pot_cap[:,0]>0]\n",
    "u_r  = (chg_pot_cap[:,1]/U_max_a)[chg_pot_cap[:,0]>0]\n",
    "\n",
    "#plt.plot(u_r, sigma_r)\n",
    "#plt.show()\n",
    "plt.plot(u_r, a0_a + (1-a0_a)*np.exp(-gamma_a*u_r**2/10),)\n",
    "\n",
    "plt.plot(u_r, np.log(sigma_r)/np.log(u_r))\n",
    "plt.ylim(0,1)\n",
    "plt.xlim(0,1.3)"
   ]
  },
  {
   "cell_type": "code",
   "execution_count": null,
   "metadata": {
    "collapsed": false
   },
   "outputs": [],
   "source": [
    "pwd"
   ]
  },
  {
   "cell_type": "code",
   "execution_count": null,
   "metadata": {
    "collapsed": true
   },
   "outputs": [],
   "source": []
  }
 ],
 "metadata": {
  "anaconda-cloud": {},
  "kernelspec": {
   "display_name": "Python 2",
   "language": "python",
   "name": "python2"
  },
  "language_info": {
   "codemirror_mode": {
    "name": "ipython",
    "version": 2
   },
   "file_extension": ".py",
   "mimetype": "text/x-python",
   "name": "python",
   "nbconvert_exporter": "python",
   "pygments_lexer": "ipython2",
   "version": "2.7.12"
  }
 },
 "nbformat": 4,
 "nbformat_minor": 1
}
