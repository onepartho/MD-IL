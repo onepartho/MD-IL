{
 "cells": [
  {
   "cell_type": "code",
   "execution_count": 15,
   "metadata": {},
   "outputs": [
    {
     "name": "stderr",
     "output_type": "stream",
     "text": [
      "INFO:ipynb:logging initialized\n",
      "INFO:ipynb:logging initialized\n"
     ]
    }
   ],
   "source": [
    "import numpy as np\n",
    "import pandas as pd\n",
    "from scipy import stats\n",
    "import scipy as sp\n",
    "import os,csv\n",
    "import statsmodels.api as sm\n",
    "from scipy import interpolate\n",
    "import sys\n",
    "sys.path.append(\"..\")\n",
    "\n",
    "# === Matplotlib ===\n",
    "%matplotlib inline\n",
    "import matplotlib.pyplot as plt\n",
    "from matplotlib import rcParams\n",
    "\n",
    "\n",
    "# === Import Maksim's functions === \n",
    "# Module in the same directory MD_Capacitance.py\n",
    "import MD_potential\n",
    "from MD_potential import *\n",
    "import MD_capacitance\n",
    "from MD_capacitance import *\n",
    "\n",
    "# === Logging ===\n",
    "import logging\n",
    "logging.basicConfig()\n",
    "log=logging.getLogger('ipynb')\n",
    "log.setLevel(logging.DEBUG)\n",
    "log.info('logging initialized')\n",
    "\n",
    "# === Import defined parameters for plotting ===\n",
    "# Module in the same directory graph_parameters.py\n",
    "import graph_parameters\n",
    "from graph_parameters import *\n",
    "#from graph_parameters import savitzky_golay\n",
    "\n",
    "\n",
    "# === Import constants ===\n",
    "# Module in the same directory constants.py\n",
    "import constants"
   ]
  },
  {
   "cell_type": "code",
   "execution_count": 2,
   "metadata": {},
   "outputs": [],
   "source": [
    "k = 1.9872041E-3  # kcal/mol/K\n",
    "rho = 0.03332819694513222\n",
    "el_chg = 1.60217662e-19 #coulomb\n",
    "Na = 6.02214129e23\n",
    "epsilon0 =  8.854187817e-12  #F/m\n",
    "eps0 = 5.5268e-2  # e/V/nm\n",
    "kcal_eV = 2.611448e22  # kcal/(eV)"
   ]
  },
  {
   "cell_type": "markdown",
   "metadata": {},
   "source": [
    "# Functions for potential calculation"
   ]
  },
  {
   "cell_type": "code",
   "execution_count": 3,
   "metadata": {},
   "outputs": [],
   "source": [
    "def find_array_minimum_point(z_coord, array, z_min, z_max):\n",
    "    \"\"\" \n",
    "    Find the smallest absolute value of array within given range, \n",
    "    \"\"\"\n",
    "    from scipy import interpolate\n",
    "    midpoint = 0.5*(z_min+z_max)\n",
    "    # create interpolation function for array\n",
    "    array_itp = interpolate.interp1d(z_coord, array, kind='linear')\n",
    "    # return absolute value of the interpolated function\n",
    "    abs_array_itp = lambda z_coord : abs(array_itp(z_coord)[0])\n",
    "    bounds = [(z_min, z_max)]\n",
    "    # minimize absolute value of the array, subject to bounds\n",
    "    x = sp.optimize.minimize(abs_array_itp, midpoint, bounds=bounds)\n",
    "    return x.x[0]\n",
    "\n",
    "\n",
    "def lpot_rpot(z_coord, pot, z_mid1=4, z_mid2=6, field=None, z_end=None, debug=False):\n",
    "    \"\"\" Return potential drops on left and right electrodes, given coordinates and potential.\n",
    "    If field is provided, defines midpoint as a place where field is closest to 0 within z_mid1, z_mid2 range.\n",
    "    \n",
    "    In debug mode in addition to two potentials, returns the location of minimum field.\n",
    "    \"\"\"\n",
    "    if not z_end:\n",
    "        z_end = z_coord[-1]\n",
    "    if np.any(field):\n",
    "        smallest_field = find_array_minimum_point(field[:,0], field[:,1], z_mid1, z_mid2)\n",
    "        # evaluate potential in the region +/- 2*dz from the smallest field location\n",
    "        dz = z_coord[1] - z_coord[0]\n",
    "        mask = (z_coord > smallest_field - 2*dz) & (z_coord < smallest_field + 2*dz)\n",
    "        mid_pot = np.mean(pot[mask])\n",
    "    else:\n",
    "        mask = (z_coord > z_mid1) & (z_coord < z_mid2)\n",
    "        mid_pot = np.mean(pot[mask])\n",
    "    end_pot = np.mean(pot[z_coord > z_end])\n",
    "    if debug:\n",
    "        return mid_pot, end_pot - mid_pot, smallest_field\n",
    "    else:\n",
    "        return mid_pot, end_pot - mid_pot\n",
    "\n",
    "    \n",
    "class ChgSimulation(object):\n",
    "    \"\"\"A utility object used to describe a series of simulations at a certain surface charge.\"\"\"\n",
    "    eps0 = 5.5268e-2\n",
    "    chg_eps = 1.0e-6 # level for non-zero charge\n",
    "    \n",
    "    def __init__(self, chg_sim_dir, chg_name='charge.xvg', replicas=None, field_name=None, \n",
    "                 pot_name=None, log=None, walls=None, set_chg=False, eps_rf=1):\n",
    "        \"\"\"\n",
    "        chg_sim_dir : string\n",
    "            directory in which simulations with a constant surface charge are located. The final part of\n",
    "            the path must include surface charge value for simulations. For example: my/long/path/3.0\n",
    "            \n",
    "        chg_name : string, default charge.xvg\n",
    "            the name of the files containing charge distribution in simulation box\n",
    "        \n",
    "        replicas : list-like, default None\n",
    "            names of directories in chg_sim_dir (without full_path), containing individual simulations.\n",
    "            If None is provided, will analyze all directories in chg_sim_dir.\n",
    "            \n",
    "        field_name : string, default None\n",
    "            the name of the files containing field distribution in simulation box. If none, will be\n",
    "            computed from the charge distribution\n",
    "            \n",
    "        pot_name : string, default None\n",
    "            the name of the files containing potential distribution in simulation box. If none, will be\n",
    "            computed from the charge distribution\n",
    "            \n",
    "        walls : array or string, default None\n",
    "            location of left and right wall (electrodes). If none - will try to guess it using charge distribution\n",
    "            If walls=='edges', assumes that walls are located at the edges of provided z-coordinates\n",
    "        \n",
    "        set_chg : Float, default False\n",
    "            Set surface charge to walls\n",
    "            \n",
    "        eps_rf : float, default 1\n",
    "            Dielectric constant throught the box. Used to downscale walls\n",
    "            \n",
    "        log : object, default None\n",
    "            an object of python logging module\n",
    "        \"\"\"\n",
    "        # init stuff\n",
    "        if log:\n",
    "            self.log = log\n",
    "        else:\n",
    "            self.log = logging.getLogger(name='charge simulation logger')\n",
    "            self.log.setLevel(logging.INFO)\n",
    "        self.chg_sim_dir = chg_sim_dir\n",
    "        self.chg_name = chg_name\n",
    "        if not replicas:\n",
    "            replicas = [d for d in os.path.listdir(chg_sim_dir) if os.path.isdir(os.path.join(chg_sim_dir, d))]\n",
    "        self.replicas = [os.path.join(chg_sim_dir, replica) for replica in replicas]\n",
    "        self.field_name = field_name\n",
    "        self.pot_name = pot_name\n",
    "        if chg_sim_dir.endswith('/'):\n",
    "            chg_sim_dir = chg_sim_dir[:-1]\n",
    "        self.surf_chg = float(os.path.split(chg_sim_dir)[1])\n",
    "        self.eps_rf = eps_rf\n",
    "        self.no_field_points = []  # locations near the center of the box where field is close to 0\n",
    "        self.chgs   = []  # charge distributions\n",
    "        self._get_chgs()\n",
    "        self.dz = self.chgs[0][1,0] - self.chgs[0][0,0] # step between grid points\n",
    "        if walls=='edges':\n",
    "            # leave a bit of space\n",
    "            self.lelec = [self.dz]*len(replicas)\n",
    "            self.relec = [self.chgs[i][-2,0] for i in range(len(replicas))]\n",
    "        elif walls:\n",
    "            self.lelec = [walls[0]]*len(replicas)\n",
    "            self.relec = [walls[1]]*len(replicas)\n",
    "        else:\n",
    "            self.lelec = []  # locations of left electrode\n",
    "            self.relec = []  # locations of left electrode\n",
    "            self._find_walls()\n",
    "        if set_chg:\n",
    "            self._set_wall_charge()\n",
    "        self.fields = []  # field distributions\n",
    "        self._get_fields()\n",
    "        self._find_midpoints()\n",
    "        self.inbetween_fields = [] # the field strengths in the regions between electrode and IL\n",
    "        #self._compute_inbetween_fields()\n",
    "        \n",
    "    def _get_chgs(self):\n",
    "        \"\"\"Load charges from replicas\"\"\"\n",
    "        for replica in self.replicas:\n",
    "            self.log.debug('Finding walls for replica: {}'.format(replica))\n",
    "            chg = np.loadtxt(os.path.join(replica, self.chg_name), comments=['#','@'])\n",
    "            self.chgs.append(chg)\n",
    "                \n",
    "    def _find_walls(self):\n",
    "        \"\"\"find positions of left and right elctrode in each replica using the locations of the \n",
    "        first points, where charge is non-zero. To deal with chg=0 we add an offset of 10*dz\n",
    "        \"\"\"\n",
    "        for i, chg in enumerate(self.chgs):\n",
    "            self.log.debug('Finding walls for replica: {}'.format(self.replicas[i]))\n",
    "            dz = chg[1,0]-chg[0,0]\n",
    "            non_zero_chg = np.abs(chg[:,1]) > self.chg_eps\n",
    "            self.lelec.append(chg[:,0][non_zero_chg][0])\n",
    "            self.relec.append(chg[:,0][non_zero_chg][-1])\n",
    "            if abs(self.surf_chg) < 1.0e-3:\n",
    "                self.lelec[-1] = self.lelec[-1] - 10*dz\n",
    "                self.relec[-1] = self.relec[-1] + 10*dz\n",
    "            self.log.debug('Left wall found at: {}'.format(self.lelec[-1]))\n",
    "            self.log.debug('Right wall found at: {}'.format(self.relec[-1]))\n",
    "            \n",
    "    def _set_wall_charge(self):\n",
    "        microC_per_cm2_to_electron_per_nm2_conv = 0.062415091\n",
    "        chg_density = self.surf_chg*microC_per_cm2_to_electron_per_nm2_conv/self.dz\n",
    "        for i, (lelec, relec) in enumerate(zip(self.lelec, self.relec)):\n",
    "            left_wall_mask = np.isclose(self.chgs[i][:,0], lelec, atol=self.dz/2)\n",
    "            right_wall_mask = np.isclose(self.chgs[i][:,0], relec, atol=self.dz/2)\n",
    "            assert sum(left_wall_mask) == 1\n",
    "            assert sum(right_wall_mask) == 1\n",
    "            self.chgs[i][:,1][left_wall_mask] =   chg_density/self.eps_rf\n",
    "            self.chgs[i][:,1][right_wall_mask] = -chg_density/self.eps_rf\n",
    "\n",
    "    def _get_fields(self):\n",
    "        \"\"\"load/computed field distributions in the boxes\"\"\"\n",
    "        if self.field_name:\n",
    "            for replica in self.replicas:\n",
    "                self.fields.append(np.loadtxt(os.path.join(replica, self.field_name), comments=['#','@']))\n",
    "        else:\n",
    "            # compute field ourselves\n",
    "            for chg in self.chgs:\n",
    "                field_f = interpolate.InterpolatedUnivariateSpline(chg[:,0], chg[:,1], k=1).antiderivative()\n",
    "                self.fields.append(np.c_[chg[:,0], field_f(chg[:,0])/ChgSimulation.eps0/self.eps_rf])\n",
    "        \n",
    "    def _find_midpoints(self):\n",
    "        \"\"\"find positions within +/- 1 [in provided length units] from the middle of the box, \n",
    "        where the field is smallest\n",
    "        \"\"\"\n",
    "        for i, replica in enumerate(self.replicas):\n",
    "            mid = 0.5*(self.lelec[i] + self.relec[i])\n",
    "            self.log.debug(\"mid point: {}\".format(mid))\n",
    "            # create interpolation function for array\n",
    "            array_itp = interpolate.interp1d(self.fields[i][:,0], self.fields[i][:,1], kind='linear')\n",
    "            # return absolute value of the interpolated function\n",
    "            abs_array_itp = lambda z_coord : abs(array_itp(z_coord)[0])\n",
    "            bounds = [(mid-1, mid+1)]  # +/- 1 from mid in sim units\n",
    "            self.log.debug(\"wall bounds {}\".format(bounds))\n",
    "            # minimize absolute value of the array, subject to bounds\n",
    "            x = sp.optimize.minimize(abs_array_itp, mid, bounds=bounds)\n",
    "            self.no_field_points.append(x.x[0])\n",
    "            \n",
    "    def _compute_inbetween_fields(self):\n",
    "        \"\"\"find the strength of the field between electrode and IL.\n",
    "        Assumes it is equal to the strength of the field immediately (10*dz) after the location of electrode wall.\n",
    "        Does this for both left and right electrode and throws error if they are not very similar for\n",
    "        any of the replicas\n",
    "        \"\"\"\n",
    "        for i, field in enumerate(self.fields):\n",
    "            lfield = np.mean(field[:,1][np.isclose(field[:,0], self.lelec[i] + 2*self.dz, atol=self.dz)])\n",
    "            rfield = np.mean(field[:,1][np.isclose(field[:,0], self.relec[i] - 2*self.dz, atol=self.dz)])\n",
    "            \n",
    "            if not np.isclose(lfield, rfield, atol=.1, rtol=1.0e-2):\n",
    "                plt.plot(field[:,0], field[:,1])\n",
    "                plt.plot(self.chgs[i][:,0], self.chgs[i][:,1])\n",
    "                plt.hlines(lfield, self.lelec[i], self.relec[i], 'red', linestyles='--')\n",
    "                plt.hlines(rfield, self.lelec[i], self.relec[i], 'green', linestyles='--')\n",
    "                plt.xlim(self.lelec[i] - 15*self.dz, self.lelec[i] + 15*self.dz)\n",
    "                plt.vlines([self.lelec[i] + 3*self.dz,  self.relec[i] - 3*self.dz], field[:,1].min(), field[:,1].max())\n",
    "                self.log.debug('dz: {}'.format(self.dz))\n",
    "                plt.show()\n",
    "                plt.plot(field[:,0], field[:,1])\n",
    "                plt.plot(self.chgs[i][:,0], self.chgs[i][:,1])\n",
    "                plt.hlines(lfield, self.lelec[i], self.relec[i], 'red', linestyles='--')\n",
    "                plt.hlines(rfield, self.lelec[i], self.relec[i], 'green', linestyles='--')\n",
    "                plt.xlim(self.relec[i] - 15*self.dz, self.relec[i] + 15*self.dz)\n",
    "                plt.vlines([self.lelec[i] + 3*self.dz,  self.relec[i] - 3*self.dz], field[:,1].min(), field[:,1].max())\n",
    "                plt.show()\n",
    "                raise ValueError(\"Left {} and right {} in-between fields are too different!\".format(lfield, rfield))\n",
    "            self.inbetween_fields.append(lfield)\n",
    "            \n",
    "    def get_lpots(self, rel_pos=0):\n",
    "        \"\"\" Get potential drops on left electrode.\n",
    "        \n",
    "        rel_pos : float, default = 0\n",
    "            Adjust electrode charge plane relative to the original wall positions. Positive values\n",
    "            correspond to position closer to the IL, negative - further away from it\n",
    "        \"\"\"\n",
    "        pots = []\n",
    "        for i, field in enumerate(self.fields):\n",
    "            z, field_vals = field[:,0], field[:,1]\n",
    "            chg_pos = self.lelec[i] + rel_pos\n",
    "            # if chg_pos is more to the left relative to real wall, use in-between field\n",
    "            # oterwise simply compute potential\n",
    "            if chg_pos < self.lelec[i]:\n",
    "                field_vals = np.copy(field_vals)\n",
    "                field_vals[(z >= chg_pos) & (z < self.lelec[i])] = self.inbetween_fields[i]\n",
    "            pot_mask = (z >= chg_pos) & (z < self.no_field_points[i])\n",
    "            pots.append(-np.sum(field_vals[pot_mask])*self.dz)\n",
    "        return np.asarray(pots)\n",
    "    \n",
    "    def get_rpots(self, rel_pos=0):\n",
    "        \"\"\" Get potential drop on right electrode.\n",
    "\n",
    "        rel_pos : float, default = 0\n",
    "            Adjust electrode charge plane relative to the original wall positions. Positive values\n",
    "            correspond to position closer to the IL, negative - further away from it\n",
    "        \"\"\"\n",
    "        pots = []\n",
    "        for i, field in enumerate(self.fields):\n",
    "            z, field_vals = field[:,0], field[:,1]\n",
    "            chg_pos = self.relec[i] - rel_pos\n",
    "            # if chg_pos is more to the right relative to real wall, use in-between field\n",
    "            # oterwise simply compute potential\n",
    "            if chg_pos > self.relec[i]:\n",
    "                field_vals = np.copy(field_vals)\n",
    "                field_vals[(z <= chg_pos) & (z > self.relec[i])] = self.inbetween_fields[i]\n",
    "            pot_mask = (z <= chg_pos) & (z > self.no_field_points[i])\n",
    "            pots.append(np.sum(field_vals[pot_mask])*self.dz)\n",
    "        return np.asarray(pots)\n",
    "    \n",
    "    def get_pot_distribs(self, i=0):\n",
    "        \"\"\" get potential distribution for i-th replica\"\"\"\n",
    "        if self.pot_name:\n",
    "            pot = np.loadtxt(os.path.join(self.replicas[i], self.pot_name), comments=['#','@'])\n",
    "        else:\n",
    "            pot_f = interpolate.InterpolatedUnivariateSpline(self.fields[i][:,0], \n",
    "                                                             self.fields[i][:,1], k=1).antiderivative()\n",
    "            pot = np.c_[self.fields[i][:,0], -pot_f(self.fields[i][:,0])]\n",
    "        return pot\n",
    "\n",
    "    def plot(self, rel_pos=0, xlim=None):\n",
    "        \"\"\" Plot what is going on for debug purposes.\"\"\"\n",
    "        lpots = self.get_lpots(rel_pos)\n",
    "        rpots = self.get_rpots(rel_pos)\n",
    "        fig, (ax1,ax2)  = plt.subplots(ncols=2, figsize=(8, 3))\n",
    "        for i in range(len(self.replicas)):\n",
    "            # left figure\n",
    "            z, field = self.fields[i][:,0], self.fields[i][:,1]\n",
    "            field_at_nofield_point = field[np.argmin(z - self.no_field_points[i])]\n",
    "            ax1.plot(z, field)\n",
    "            ax1.plot(self.no_field_points[i], field_at_nofield_point, 'ro')\n",
    "            pot = self.get_pot_distribs(i)[:,1]\n",
    "            # right figure\n",
    "            ax2.plot(z, pot)\n",
    "            ax2.hlines([lpots[i]], 0, self.relec[i], 'b')\n",
    "            ax2.hlines([lpots[i] - rpots[i]], 0, self.relec[i], 'c')\n",
    "            # both figures\n",
    "            ax1.vlines([self.lelec[i], self.relec[i]], min(field), max(field), 'red', '--')\n",
    "            ax2.vlines([self.lelec[i], self.relec[i]], min(pot), max(pot), 'red', '--')\n",
    "            if xlim:\n",
    "                ax1.set_xlim(*xlim)\n",
    "                ax2.set_xlim(*xlim)\n",
    "        ax1.set_title('field'); ax2.set_title('potential')\n",
    "    \n",
    "    \n",
    "def mod_z_score(vals):\n",
    "    \"\"\"Computes modified z-score to test for outliers. Outliers are points with m-z score > 3.5\n",
    "    http://www.itl.nist.gov/div898/handbook/eda/section3/eda35h.htm\n",
    "    \"\"\"\n",
    "    vals = np.asarray(vals)\n",
    "    mad = np.median(np.absolute(vals - np.median(vals)))\n",
    "    return np.abs(.6745*(vals - np.median(vals))/mad)\n",
    "\n",
    "def compute_potentials(simulations, rel_pos=0, exclude_outliers=True, find_average=True):\n",
    "    chgs = np.asarray([sim.surf_chg if sim else np.NaN for sim in simulations])\n",
    "    chgs = np.hstack([-chgs[::-1], chgs])\n",
    "    potentials = []\n",
    "    for sim in simulations:    \n",
    "        if sim:\n",
    "            lpots = sim.get_lpots(rel_pos)\n",
    "            rpots = sim.get_rpots(rel_pos)\n",
    "            if exclude_outliers and np.any(mod_z_score(lpots) > 3.5):\n",
    "                log_string = 'Left electrode in simulation {} contains possibly outlying potential '\n",
    "                log_string += ', '.join('{:.3f}({:.1f})'.format(*vals) for vals in zip(lpots, mod_z_score(lpots)))\n",
    "                log_string += '. Ignoring potentials with z-score > 3.5.'\n",
    "                log.debug(log_string)\n",
    "                lpots = lpots[mod_z_score(lpots) <= 3.5]\n",
    "            if exclude_outliers and np.any(mod_z_score(rpots) > 3.5):\n",
    "                log_string = 'Right electrode in simulation {} contains possibly outlying potential '\n",
    "                log_string += ', '.join('{:.2f}({:.1f})'.format(*vals) for vals in zip(rpots, mod_z_score(rpots)))\n",
    "                log_string += '. Ignoring potentials with z-score > 3.5.'\n",
    "                log.debug(log_string)\n",
    "                rpots = rpots[mod_z_score(rpots) <= 3.5]\n",
    "            if find_average:\n",
    "                potentials.append([np.nanmean(lpots), np.nanmean(rpots)])\n",
    "            else:\n",
    "                potentials.append([lpots, rpots])\n",
    "        else:\n",
    "            potentials.append([np.NaN, np.NaN])\n",
    "            \n",
    "    potentials = np.asarray(potentials)\n",
    "    averaged_potentials = np.hstack([-potentials[:,1][::-1], -potentials[:,0]])\n",
    "    #return averaged_potentials\n",
    "\n",
    "    # get rid of NaN-s\n",
    "    chgs = chgs[np.logical_not(np.isnan(averaged_potentials))]\n",
    "    averaged_potentials = averaged_potentials[np.logical_not(np.isnan(averaged_potentials))]\n",
    "\n",
    "    gromacs_data = np.c_[averaged_potentials, chgs]\n",
    "    \n",
    "    return gromacs_data"
   ]
  },
  {
   "cell_type": "code",
   "execution_count": 4,
   "metadata": {},
   "outputs": [
    {
     "name": "stderr",
     "output_type": "stream",
     "text": [
      "/home/prace/opt/anaconda2/lib/python2.7/site-packages/matplotlib/font_manager.py:1339: UserWarning: findfont: Font family [u'sans-serif'] not found. Falling back to DejaVu Sans\n",
      "  (prop.get_family(), self.defaultFamily[fontext]))\n"
     ]
    },
    {
     "data": {
      "image/png": "[encoded data removed]",
      "text/plain": [
       "<Figure size 576x216 with 2 Axes>"
      ]
     },
     "metadata": {},
     "output_type": "display_data"
    }
   ],
   "source": [
    "chsim1 = ChgSimulation('/data/Julia/AuBMImPF6/Experiments/A3/BMImPF6/450/a/60.00', chg_name='charge.xvg',\n",
    "                       pot_name='potential_mod.xvg', field_name='field_mod.xvg', replicas=['3'], walls=[0.825, 17.499])#, set_chg=True)\n",
    "\n",
    "chsim1.plot() #xlim=(15,18)"
   ]
  },
  {
   "cell_type": "markdown",
   "metadata": {},
   "source": [
    "# Load potentials"
   ]
  },
  {
   "cell_type": "code",
   "execution_count": 5,
   "metadata": {},
   "outputs": [
    {
     "name": "stderr",
     "output_type": "stream",
     "text": [
      "/home/prace/opt/anaconda2/lib/python2.7/site-packages/ipykernel/__main__.py:293: RuntimeWarning: invalid value encountered in divide\n"
     ]
    },
    {
     "data": {
      "text/plain": [
       "<matplotlib.legend.Legend at 0x7f706fbd2110>"
      ]
     },
     "execution_count": 5,
     "metadata": {},
     "output_type": "execute_result"
    },
    {
     "data": {
      "image/png": "[encoded data removed]",
      "text/plain": [
       "<Figure size 432x288 with 1 Axes>"
      ]
     },
     "metadata": {},
     "output_type": "display_data"
    }
   ],
   "source": [
    "# directory containing base directories for simulations with different electrode surface charges\n",
    "base_path = '/data/Julia/AuBMImPF6/Experiments/A3/BMImPF6/450/a'\n",
    "\n",
    "# surface charges to analyze\n",
    "surf_chgs = [dirs for dirs in os.listdir(base_path) \n",
    "              if os.path.isdir(os.path.join(base_path, dirs)) and '.' in dirs]\n",
    "surf_chgs = sorted(surf_chgs, key=float)\n",
    "\n",
    "replicas = ['0','1','2','3','4']              # which replicas to analyze for each charge\n",
    "for r in replicas:\n",
    "    chg_name='charge.xvg'                   # the name of text file containign values of charge depending on z\n",
    "    generic_data_path = base_path + '/{surf_chg}'  # should reflect directory structure\n",
    "    # optional\n",
    "    pot_name = 'potential_mod.xvg'              # the name of text file containign values of potential depending on z\n",
    "    field_name = 'field_mod.xvg'                # the name of text file containign values of field depending on z\n",
    "    walls=None\n",
    "    #A3 0.825 17.499 0.118\n",
    "    walls = (0.825+0.118, 17.499-0.118)         #0.072 is a half space between Au-Au layers\n",
    "    set_chg = False  # x-y dimensions in nm\n",
    "    debug = True  # extra printing and plotting\n",
    "    if debug:\n",
    "        log.setLevel(level=logging.DEBUG)\n",
    "\n",
    "    simulations = []\n",
    "    for surf_chg in surf_chgs:\n",
    "        p = generic_data_path.format(surf_chg=surf_chg)\n",
    "        try:\n",
    "            chsim = ChgSimulation(p, chg_name=chg_name, replicas=r, field_name=field_name, \n",
    "                                  pot_name=pot_name, walls=walls, set_chg=set_chg)\n",
    "            simulations.append(chsim)\n",
    "            #print surf_chg\n",
    "            #chsim.plot()\n",
    "        except IOError:\n",
    "            log.info('Simulations for surf_chg = {} were not found!, skipping!'.format(surf_chg))\n",
    "        except Exception as e:\n",
    "            log.exception(e)\n",
    "            chsim = ChgSimulation(p, chg_name=chg_name, replicas=replicas, field_name=field_name, \n",
    "                                  pot_name=pot_name, walls=walls, log=log)\n",
    "    pots = compute_potentials(simulations, exclude_outliers=True)\n",
    "    plt.plot(pots[:,0], pots[:,1], 'o', alpha=0.3, label=str(r))\n",
    "plt.xlabel('U (V)')\n",
    "plt.ylabel(r'$\\sigma$ $(\\mathrm{mC\\cdot cm^{-2}})$')\n",
    "plt.legend(loc='best')"
   ]
  },
  {
   "cell_type": "markdown",
   "metadata": {},
   "source": [
    "Check that potential looks ok and that there are no outliers"
   ]
  },
  {
   "cell_type": "markdown",
   "metadata": {},
   "source": [
    "# Capacitance calculations"
   ]
  },
  {
   "cell_type": "markdown",
   "metadata": {},
   "source": [
    "## Capacitance functions"
   ]
  },
  {
   "cell_type": "code",
   "execution_count": 6,
   "metadata": {},
   "outputs": [],
   "source": [
    "def conv_smooth(x, y, window_size=11, window='hanning', extension=100):\n",
    "    \"\"\" Convolve signal with hanning window\"\"\"\n",
    "    # extend function to makes sure edges behave nicely\n",
    "    dx = x[1] - x[0]\n",
    "    x_itp_long = np.arange(x.min() - extension, x.max() + extension, dx)\n",
    "    y_itp_long_f = sp.interpolate.InterpolatedUnivariateSpline(x, y, k=1)\n",
    "    y_itp_long = y_itp_long_f(x_itp_long)\n",
    "    # after convolution part of the function close to the edges behave poorly\n",
    "    # so we cut them\n",
    "    l_cut = (window_size - 1)/2\n",
    "    r_cut = window_size - 1 - l_cut\n",
    "    # convolution magic from\n",
    "    # http://scipy-cookbook.readthedocs.io/items/SignalSmooth.html\n",
    "    s = np.r_[y_itp_long[window_size-1:0:-1], y_itp_long, y_itp_long[-1:-window_size:-1]]\n",
    "    w = eval('np.' + window + '(window_size)')\n",
    "    y_smooth = np.convolve(w/w.sum(), s, mode='valid')[l_cut:-r_cut]\n",
    "    # return to non-extended function\n",
    "    return y_smooth[(x_itp_long > x[0]-dx/2.0) & (x_itp_long < x[-1]+dx/2.0)]\n",
    "\n",
    "\n",
    "def num_derivC(pot, chg):\n",
    "    \"\"\" Central difference numerical deriv using numpy.\"\"\"\n",
    "    dchg = np.gradient(chg)\n",
    "    dpot = np.gradient(pot)\n",
    "    return dchg/dpot\n",
    "\n",
    "def plot_window(ax, x, window_size, window, plot_size=.1):\n",
    "    w = eval('np.' + window + '(window_size)')\n",
    "    dx = x[1]-x[0]\n",
    "    x_plot = np.arange(0, window_size*dx - dx*.1, dx)\n",
    "    x_min, x_max = ax.get_xlim()\n",
    "    y_min, y_max = ax.get_ylim()\n",
    "    func = w*(y_max - y_min)*plot_size + y_min\n",
    "    ax.plot(x_plot + x_max - x_plot[-1], func, 'k-')\n",
    "    \n",
    "def compute_cap(gromacs_data, itp_points=1000, w='hamming', fine_ws=61, coarse_ws=201, chg_left=-20,\n",
    "                chg_right=20):\n",
    "    # interpolate to increase point size\n",
    "    # and regularize grid\n",
    "    pot, chg = gromacs_data[:,0], gromacs_data[:, 1]\n",
    "    chg_itp = np.linspace(chg.min(),chg.max(), itp_points)\n",
    "    pot_itp_f = interpolate.interp1d(chg, pot, kind='linear')\n",
    "    pot_itp = pot_itp_f(chg_itp)\n",
    "\n",
    "    # Convolution - smoothing\n",
    "    # convolve with hamming window\n",
    "    # optimally, we want to describe low surface charges with less (fine) smoothing (since we have a lot of simulations there)\n",
    "    # and smooth pot-chg relation for higher charges to larger extent (coarse smoothing)\n",
    "\n",
    "    # transition speeeds from coarse to fine and from fine to coarse smoothings\n",
    "    trans_left = 5.0\n",
    "    trans_right = 5.0\n",
    "\n",
    "    # smoothed pots\n",
    "    fine_pot = conv_smooth(chg_itp, pot_itp, fine_ws, window=w)\n",
    "    coarse_pot = conv_smooth(chg_itp, pot_itp, coarse_ws, window=w)\n",
    "\n",
    "    # merge two potentials at two different points\n",
    "    sigma1 =  1. / (1 + np.exp(-(chg_itp - chg_left) / trans_left));\n",
    "    sigma2 =  1. / (1 + np.exp(-(chg_itp - chg_right) / trans_right));\n",
    "    merged = (1-sigma1) * coarse_pot + sigma1 * fine_pot\n",
    "    merged = (1-sigma2) * merged + sigma2 * coarse_pot\n",
    "    \n",
    "    cap = num_derivC(merged, chg_itp)\n",
    "    return np.c_[chg_itp, merged, cap]\n",
    "\n",
    "def plot_cap(gromacs_data, rel_pos=0, itp_points=1000, w='hamming', fine_ws=151, coarse_ws=201, chg_left=-20,\n",
    "             chg_right=20):\n",
    "    chg_pot_cap = compute_cap(gromacs_data, itp_points=itp_points, w=w, fine_ws=fine_ws,\n",
    "                              coarse_ws=coarse_ws, chg_left=chg_left, chg_right=chg_right)\n",
    "    pot, chg = gromacs_data[:,0], gromacs_data[:,1]\n",
    "    chg_itp, conv_pot, cap = chg_pot_cap[:,0], chg_pot_cap[:,1], chg_pot_cap[:,2]\n",
    "    #plt.plot(pot_itp, chg_itp , label='itp', alpha=.5)\n",
    "    fine_ws=61; coarse_ws=20\n",
    "    fig, (ax1,ax2)  = plt.subplots(ncols=2, figsize=(9, 4))\n",
    "    ax1.plot(conv_pot, chg_itp, '-', label='conv')#, lw=3)\n",
    "    ax1.plot(pot, chg, '.', c='red', label='data')\n",
    "    ax1.set_xlabel('U (V)')\n",
    "    ax1.set_ylabel(r'$\\sigma$ $(\\mathrm{mC\\cdot cm^{-2}})$')\n",
    "    ax1.legend(loc='best')\n",
    "    ax1.set_xlim(pot.min(), pot.max())\n",
    "    ax1.set_ylim(chg.min(), chg.max())\n",
    "    ax2.plot(chg_pot_cap[:,1],chg_pot_cap[:,2],  label='fit')\n",
    "    ax2.legend(loc='best')\n",
    "    ax2.set_xlabel('U (V)')\n",
    "    ax2.set_ylabel(r'$C$ $(\\mathrm{\\mu F\\cdot cm^{-2}})$')\n",
    "    #plt.savefig('../gfx/u_pot.png',dpi=300)\n",
    "\n",
    "    print 'Capacitance maximum: {}'.format(np.amax(chg_pot_cap[:,2]))\n",
    "    print 'Corresponding charge: {}'.format(chg_pot_cap[:,0][np.argmax(chg_pot_cap[:,2])])\n",
    "    print 'Corresponding potential: {}'.format(chg_pot_cap[:,1][np.argmax(chg_pot_cap[:,2])])\n",
    "    return fig, (ax1, ax2)\n"
   ]
  },
  {
   "cell_type": "markdown",
   "metadata": {},
   "source": [
    "### Smoothing pot/chg"
   ]
  },
  {
   "cell_type": "code",
   "execution_count": 7,
   "metadata": {},
   "outputs": [
    {
     "name": "stdout",
     "output_type": "stream",
     "text": [
      "Capacitance maximum: 9.17165948693\n",
      "Corresponding charge: 3.5035035035\n",
      "Corresponding potential: 0.967115784462\n"
     ]
    },
    {
     "name": "stderr",
     "output_type": "stream",
     "text": [
      "/home/prace/opt/anaconda2/lib/python2.7/site-packages/ipykernel/__main__.py:293: RuntimeWarning: invalid value encountered in divide\n"
     ]
    },
    {
     "data": {
      "text/plain": [
       "(0, 20)"
      ]
     },
     "execution_count": 7,
     "metadata": {},
     "output_type": "execute_result"
    },
    {
     "data": {
      "image/png": "[encoded data removed]",
      "text/plain": [
       "<Figure size 648x288 with 2 Axes>"
      ]
     },
     "metadata": {},
     "output_type": "display_data"
    }
   ],
   "source": [
    "fig, (ax1,ax2) =plot_cap(compute_potentials(simulations, rel_pos=0.0), fine_ws=261)\n",
    "ax2.set_xlim(-5,5)\n",
    "ax2.set_ylim(0,20)"
   ]
  },
  {
   "cell_type": "code",
   "execution_count": 8,
   "metadata": {},
   "outputs": [
    {
     "name": "stdout",
     "output_type": "stream",
     "text": [
      "Capacitance maximum: 10.1017703861\n",
      "Corresponding charge: -4.5045045045\n",
      "Corresponding potential: 0.0989551541324\n"
     ]
    },
    {
     "name": "stderr",
     "output_type": "stream",
     "text": [
      "/home/prace/opt/anaconda2/lib/python2.7/site-packages/ipykernel/__main__.py:293: RuntimeWarning: invalid value encountered in divide\n"
     ]
    },
    {
     "data": {
      "text/plain": [
       "(-2, 2)"
      ]
     },
     "execution_count": 8,
     "metadata": {},
     "output_type": "execute_result"
    },
    {
     "data": {
      "image/png": "[encoded data removed]",
      "text/plain": [
       "<Figure size 648x288 with 2 Axes>"
      ]
     },
     "metadata": {},
     "output_type": "display_data"
    }
   ],
   "source": [
    "fig, (ax1, ax2) = plot_cap(compute_potentials(simulations, rel_pos=.0), fine_ws=161)\n",
    "ax2.set_xlim(-2, 2)\n",
    "#ax2.set_ylim(0,100)\n"
   ]
  },
  {
   "cell_type": "code",
   "execution_count": 9,
   "metadata": {},
   "outputs": [
    {
     "name": "stderr",
     "output_type": "stream",
     "text": [
      "/home/prace/opt/anaconda2/lib/python2.7/site-packages/ipykernel/__main__.py:293: RuntimeWarning: invalid value encountered in divide\n"
     ]
    }
   ],
   "source": [
    "chg_pot_cap = compute_cap(compute_potentials(simulations, rel_pos=.087),itp_points=1000, w='hamming', \n",
    "                          fine_ws=61, coarse_ws=151, chg_left=-20, chg_right=20)\n",
    "\n",
    "np.savetxt('/home/prace/Bi_emimI_chg_pot_cap.txt', chg_pot_cap)"
   ]
  },
  {
   "cell_type": "code",
   "execution_count": 10,
   "metadata": {},
   "outputs": [],
   "source": [
    "from ipywidgets import interact, interactive, fixed\n",
    "from IPython.display import clear_output, display, HTML"
   ]
  },
  {
   "cell_type": "code",
   "execution_count": 11,
   "metadata": {
    "scrolled": true
   },
   "outputs": [
    {
     "data": {
      "application/vnd.jupyter.widget-view+json": {
       "model_id": "d8e1541d6c85457da88599a5c721e32d",
       "version_major": 2,
       "version_minor": 0
      },
      "text/html": [
       "<p>Failed to display Jupyter Widget of type <code>interactive</code>.</p>\n",
       "<p>\n",
       "  If you're reading this message in the Jupyter Notebook or JupyterLab Notebook, it may mean\n",
       "  that the widgets JavaScript is still loading. If this message persists, it\n",
       "  likely means that the widgets JavaScript library is either not installed or\n",
       "  not enabled. See the <a href=\"https://ipywidgets.readthedocs.io/en/stable/user_install.html\">Jupyter\n",
       "  Widgets Documentation</a> for setup instructions.\n",
       "</p>\n",
       "<p>\n",
       "  If you're reading this message in another frontend (for example, a static\n",
       "  rendering on GitHub or <a href=\"https://nbviewer.jupyter.org/\">NBViewer</a>),\n",
       "  it may mean that your frontend doesn't currently support widgets.\n",
       "</p>\n"
      ],
      "text/plain": [
       "interactive(children=(FloatSlider(value=0.0, description=u'rel_pos', max=0.5, min=-0.5, step=0.01), Output()), _dom_classes=('widget-interact',))"
      ]
     },
     "metadata": {},
     "output_type": "display_data"
    }
   ],
   "source": [
    "def func(**kwargs):\n",
    "    plot_cap(compute_potentials(**kwargs))\n",
    "\n",
    "interactive(func, simulations=fixed(simulations), rel_pos=(-.5, .5, .01))\n"
   ]
  },
  {
   "cell_type": "markdown",
   "metadata": {},
   "source": [
    "# Fit function"
   ]
  },
  {
   "cell_type": "markdown",
   "metadata": {},
   "source": [
    "### fitting cation"
   ]
  },
  {
   "cell_type": "code",
   "execution_count": 12,
   "metadata": {},
   "outputs": [
    {
     "ename": "NameError",
     "evalue": "name 'chg_itp' is not defined",
     "output_type": "error",
     "traceback": [
      "\u001b[0;31m---------------------------------------------------------------------------\u001b[0m",
      "\u001b[0;31mNameError\u001b[0m                                 Traceback (most recent call last)",
      "\u001b[0;32m<ipython-input-12-4c2b68ac9ea3>\u001b[0m in \u001b[0;36m<module>\u001b[0;34m()\u001b[0m\n\u001b[1;32m     26\u001b[0m \u001b[0;31m# sigma_c_fit = gromacs_data[:,1][gromacs_data[:,1] > 30]\u001b[0m\u001b[0;34m\u001b[0m\u001b[0;34m\u001b[0m\u001b[0m\n\u001b[1;32m     27\u001b[0m \u001b[0;31m# U_c_fit = gromacs_data[:,0][gromacs_data[:,1] > 30]\u001b[0m\u001b[0;34m\u001b[0m\u001b[0;34m\u001b[0m\u001b[0m\n\u001b[0;32m---> 28\u001b[0;31m \u001b[0msigma_c_fit\u001b[0m \u001b[0;34m=\u001b[0m \u001b[0mchg_itp\u001b[0m\u001b[0;34m[\u001b[0m\u001b[0mchg_itp\u001b[0m \u001b[0;34m<\u001b[0m \u001b[0;34m-\u001b[0m\u001b[0;36m30\u001b[0m\u001b[0;34m]\u001b[0m\u001b[0;34m\u001b[0m\u001b[0m\n\u001b[0m\u001b[1;32m     29\u001b[0m \u001b[0mU_c_fit\u001b[0m \u001b[0;34m=\u001b[0m \u001b[0mconv_pot\u001b[0m\u001b[0;34m[\u001b[0m\u001b[0mchg_itp\u001b[0m \u001b[0;34m<\u001b[0m \u001b[0;34m-\u001b[0m\u001b[0;36m30\u001b[0m\u001b[0;34m]\u001b[0m\u001b[0;34m\u001b[0m\u001b[0m\n\u001b[1;32m     30\u001b[0m \u001b[0;34m\u001b[0m\u001b[0m\n",
      "\u001b[0;31mNameError\u001b[0m: name 'chg_itp' is not defined"
     ]
    }
   ],
   "source": [
    "U0 = .15        # V\n",
    "U_max_c = -1.27877117e+01\n",
    "theta_max_c = 40\n",
    "\n",
    "\n",
    "def sigma_fit(u, theta_max, gamma, a0):\n",
    "    exponential_term  = a0 + (1 - a0)*np.exp(-gamma*u**2)\n",
    "    return np.r_[(theta_max*(-u)**(exponential_term))[u<0],-(theta_max*u**(exponential_term))[u>=0]]\n",
    "\n",
    "\n",
    "def fit_c(x, sigma, U):\n",
    "    \"\"\"\n",
    "    Cation fit objective function\n",
    "    \n",
    "    x : list\n",
    "        Contains: U_max_c (V), gamma_c, a0_c\n",
    "    \"\"\"\n",
    "    gamma_c, a0_c = x\n",
    "    u = (U - U0)/U_max_c\n",
    "    sigma_fit_c = sigma_fit(u, theta_max_c, gamma_c, a0_c)\n",
    "    inv_dist_from_kappa = 1./(np.sqrt(np.abs(sigma_fit(u, theta_max_c, gamma_c, a0_c)+theta_max_c))+1)\n",
    "    return np.sum(np.abs(sigma-sigma_fit_c)**(2)*inv_dist_from_kappa)\n",
    "\n",
    "\n",
    "# Define fit region\n",
    "# sigma_c_fit = gromacs_data[:,1][gromacs_data[:,1] > 30]\n",
    "# U_c_fit = gromacs_data[:,0][gromacs_data[:,1] > 30]\n",
    "sigma_c_fit = chg_itp[chg_itp < -30]\n",
    "U_c_fit = conv_pot[chg_itp < -30]\n",
    "\n",
    "\n",
    "# initial guess\n",
    "# gamma, a0\n",
    "x0 = [  2.02, 0.62]\n",
    "\n",
    "res = sp.optimize.minimize(fit_c, x0, args=(sigma_c_fit, U_c_fit), bounds=[(0,100000), (0.5, 1)],\n",
    "                          options={'ftol' : np.finfo(float).eps})\n",
    "print res\n",
    "#x  = res.x\n",
    "x = res.x\n",
    "\n",
    "u = (U_c_fit-U0)/U_max_c\n",
    "plt.plot(U_c_fit, sigma_c_fit,'-o', label='data')\n",
    "plt.plot(U_c_fit, sigma_fit(u, theta_max_c, x[0], x[1]), '-', label='fit')\n",
    "plt.plot(U_c_fit, sigma_fit(u, theta_max_c, x0[0], x0[1]), '--', label='fit0')\n",
    "\n",
    "plt.xlabel('sigma microC/cm2')\n",
    "plt.ylabel('U V')\n",
    "plt.legend(loc='best')"
   ]
  },
  {
   "cell_type": "code",
   "execution_count": 13,
   "metadata": {},
   "outputs": [
    {
     "ename": "NameError",
     "evalue": "name 'chg_itp' is not defined",
     "output_type": "error",
     "traceback": [
      "\u001b[0;31m---------------------------------------------------------------------------\u001b[0m",
      "\u001b[0;31mNameError\u001b[0m                                 Traceback (most recent call last)",
      "\u001b[0;32m<ipython-input-13-43ea72c9668d>\u001b[0m in \u001b[0;36m<module>\u001b[0;34m()\u001b[0m\n\u001b[1;32m     25\u001b[0m \u001b[0;31m# sigma_c_fit = gromacs_data[:,1][gromacs_data[:,1] > 30]\u001b[0m\u001b[0;34m\u001b[0m\u001b[0;34m\u001b[0m\u001b[0m\n\u001b[1;32m     26\u001b[0m \u001b[0;31m# U_c_fit = gromacs_data[:,0][gromacs_data[:,1] > 30]\u001b[0m\u001b[0;34m\u001b[0m\u001b[0;34m\u001b[0m\u001b[0m\n\u001b[0;32m---> 27\u001b[0;31m \u001b[0msigma_a_fit\u001b[0m \u001b[0;34m=\u001b[0m \u001b[0mchg_itp\u001b[0m\u001b[0;34m[\u001b[0m\u001b[0mchg_itp\u001b[0m \u001b[0;34m>\u001b[0m \u001b[0;36m10\u001b[0m\u001b[0;34m]\u001b[0m\u001b[0;34m\u001b[0m\u001b[0m\n\u001b[0m\u001b[1;32m     28\u001b[0m \u001b[0mU_a_fit\u001b[0m \u001b[0;34m=\u001b[0m \u001b[0mpot_itp\u001b[0m\u001b[0;34m[\u001b[0m\u001b[0mchg_itp\u001b[0m \u001b[0;34m>\u001b[0m \u001b[0;36m10\u001b[0m\u001b[0;34m]\u001b[0m\u001b[0;34m\u001b[0m\u001b[0m\n\u001b[1;32m     29\u001b[0m \u001b[0;34m\u001b[0m\u001b[0m\n",
      "\u001b[0;31mNameError\u001b[0m: name 'chg_itp' is not defined"
     ]
    }
   ],
   "source": [
    "U0 = .15          # V\n",
    "U_max_a =  8.64749511e+00\n",
    "theta_max_a = -16  # microC/cm^2\n",
    "\n",
    "def sigma_fit(u, theta_max, gamma, a0):\n",
    "    exponential_term  = a0 + (1 - a0)*np.exp(-gamma*u**2)\n",
    "    return np.r_[(theta_max*(-u)**(exponential_term))[u<0],-(theta_max*u**(exponential_term))[u>=0]]\n",
    "\n",
    "\n",
    "def fit_a(x, sigma, U):\n",
    "    \"\"\"\n",
    "    Cation fit objective function\n",
    "    \n",
    "    x : list\n",
    "        Contains:  gamma_a, a0_a\n",
    "    \"\"\"\n",
    "    gamma_a, a0_a = x\n",
    "    u = (U - U0)/U_max_a\n",
    "    sigma_fit_a = sigma_fit(u, theta_max_a, gamma_a, a0_a)\n",
    "    inv_dist_from_kappa = 1./(np.sqrt(np.abs(sigma_fit(u, theta_max_a, gamma_a, a0_a)+theta_max_a))+1)\n",
    "    return np.sum(np.abs(sigma-sigma_fit_a)**(2)*inv_dist_from_kappa)\n",
    "\n",
    "\n",
    "# Define fit region\n",
    "# sigma_c_fit = gromacs_data[:,1][gromacs_data[:,1] > 30]\n",
    "# U_c_fit = gromacs_data[:,0][gromacs_data[:,1] > 30]\n",
    "sigma_a_fit = chg_itp[chg_itp > 10]\n",
    "U_a_fit = pot_itp[chg_itp > 10]\n",
    "\n",
    "\n",
    "# initial guess\n",
    "# gamma, a0\n",
    "x0 = [  2, 0.7]\n",
    "\n",
    "res = sp.optimize.minimize(fit_a, x0, args=(sigma_a_fit, U_a_fit), bounds=[(0,100000), (0.5, 1)],\n",
    "                          options={'ftol' : np.finfo(float).eps})\n",
    "print res\n",
    "#x  = res.x\n",
    "x = res.x\n",
    "\n",
    "u = (U_a_fit-U0)/U_max_a\n",
    "plt.plot(U_a_fit, sigma_a_fit,'-o', label='data')\n",
    "plt.plot(U_a_fit, sigma_fit(u, theta_max_a, x[0], x[1]), '-', label='fit')\n",
    "plt.plot(U_a_fit, sigma_fit(u, theta_max_a, x0[0], x0[1]), '--', label='fit0')\n",
    "\n",
    "plt.xlabel('sigma microC/cm2')\n",
    "plt.ylabel('U V')\n",
    "plt.legend(loc='best')"
   ]
  },
  {
   "cell_type": "code",
   "execution_count": 14,
   "metadata": {},
   "outputs": [
    {
     "name": "stderr",
     "output_type": "stream",
     "text": [
      "/home/prace/opt/anaconda2/lib/python2.7/site-packages/ipykernel/__main__.py:3: RuntimeWarning: invalid value encountered in power\n",
      "  app.launch_new_instance()\n"
     ]
    },
    {
     "ename": "NameError",
     "evalue": "name 'conv_pot' is not defined",
     "output_type": "error",
     "traceback": [
      "\u001b[0;31m---------------------------------------------------------------------------\u001b[0m",
      "\u001b[0;31mNameError\u001b[0m                                 Traceback (most recent call last)",
      "\u001b[0;32m<ipython-input-14-2446611b7fea>\u001b[0m in \u001b[0;36m<module>\u001b[0;34m()\u001b[0m\n\u001b[1;32m     53\u001b[0m \u001b[0max2\u001b[0m\u001b[0;34m.\u001b[0m\u001b[0mplot\u001b[0m\u001b[0;34m(\u001b[0m\u001b[0mU_fit\u001b[0m\u001b[0;34m,\u001b[0m \u001b[0mC_h\u001b[0m\u001b[0;34m,\u001b[0m \u001b[0mlabel\u001b[0m\u001b[0;34m=\u001b[0m\u001b[0;34m'C'\u001b[0m\u001b[0;34m,\u001b[0m \u001b[0mcolor\u001b[0m\u001b[0;34m=\u001b[0m\u001b[0mcolor_wheel\u001b[0m\u001b[0;34m[\u001b[0m\u001b[0;36m3\u001b[0m\u001b[0;34m]\u001b[0m\u001b[0;34m)\u001b[0m\u001b[0;34m\u001b[0m\u001b[0m\n\u001b[1;32m     54\u001b[0m \u001b[0max2\u001b[0m\u001b[0;34m.\u001b[0m\u001b[0mplot\u001b[0m\u001b[0;34m(\u001b[0m\u001b[0mU_fit\u001b[0m\u001b[0;34m,\u001b[0m \u001b[0msC_h\u001b[0m\u001b[0;34m,\u001b[0m \u001b[0mlabel\u001b[0m\u001b[0;34m=\u001b[0m\u001b[0;34m'C sm'\u001b[0m\u001b[0;34m,\u001b[0m \u001b[0mcolor\u001b[0m\u001b[0;34m=\u001b[0m\u001b[0mcolor_wheel\u001b[0m\u001b[0;34m[\u001b[0m\u001b[0;36m5\u001b[0m\u001b[0;34m]\u001b[0m\u001b[0;34m)\u001b[0m\u001b[0;34m\u001b[0m\u001b[0m\n\u001b[0;32m---> 55\u001b[0;31m \u001b[0max2\u001b[0m\u001b[0;34m.\u001b[0m\u001b[0mplot\u001b[0m\u001b[0;34m(\u001b[0m\u001b[0mconv_pot\u001b[0m\u001b[0;34m,\u001b[0m\u001b[0mchg_pot_cap\u001b[0m\u001b[0;34m[\u001b[0m\u001b[0;34m:\u001b[0m\u001b[0;34m,\u001b[0m\u001b[0;36m2\u001b[0m\u001b[0;34m]\u001b[0m\u001b[0;34m,\u001b[0m \u001b[0;34m'--'\u001b[0m\u001b[0;34m,\u001b[0m\u001b[0mlw\u001b[0m\u001b[0;34m=\u001b[0m\u001b[0;36m5\u001b[0m\u001b[0;34m,\u001b[0m  \u001b[0mlabel\u001b[0m\u001b[0;34m=\u001b[0m\u001b[0;34m'data'\u001b[0m\u001b[0;34m,\u001b[0m\u001b[0mcolor\u001b[0m\u001b[0;34m=\u001b[0m\u001b[0mcolor_wheel\u001b[0m\u001b[0;34m[\u001b[0m\u001b[0;36m2\u001b[0m\u001b[0;34m]\u001b[0m\u001b[0;34m)\u001b[0m\u001b[0;34m\u001b[0m\u001b[0m\n\u001b[0m\u001b[1;32m     56\u001b[0m \u001b[0;34m\u001b[0m\u001b[0m\n\u001b[1;32m     57\u001b[0m \u001b[0max2\u001b[0m\u001b[0;34m.\u001b[0m\u001b[0mset_xlim\u001b[0m\u001b[0;34m(\u001b[0m\u001b[0;34m-\u001b[0m\u001b[0;36m15\u001b[0m\u001b[0;34m,\u001b[0m \u001b[0;36m15\u001b[0m\u001b[0;34m)\u001b[0m\u001b[0;34m\u001b[0m\u001b[0m\n",
      "\u001b[0;31mNameError\u001b[0m: name 'conv_pot' is not defined"
     ]
    },
    {
     "data": {
      "image/png": "[encoded data removed]",
      "text/plain": [
       "<Figure size 504x234 with 2 Axes>"
      ]
     },
     "metadata": {},
     "output_type": "display_data"
    }
   ],
   "source": [
    "def sigma_fit(u, theta_max, gamma, a0):\n",
    "    exponential_term  = a0 + (1 - a0)*np.exp(-gamma*u**2)\n",
    "    return np.r_[(theta_max*(-u)**(exponential_term))[u<0],-(theta_max*u**(exponential_term))[u>=0]]\n",
    "\n",
    "\n",
    "\n",
    "# data\n",
    "U0 = .15          # V\n",
    "U_max_a =  8.64749511e+00\n",
    "U_max_c =  1.27877117e+01\n",
    "theta_max_a = -16  # microC/cm^2\n",
    "theta_max_c = 40#60#  # microC/cm^2\n",
    "\n",
    "# fitted values\n",
    "gamma_c = 1.90891538\n",
    "a0_c = 0.61969294\n",
    "gamma_a = 43.52760518\n",
    "a0_a = 0.71859516\n",
    "\n",
    "# individual capacitances\n",
    "#U_fit = np.linspace(-80, 40, num=1000)\n",
    "U_fit, dU = np.linspace(-80, 80, num=1000, retstep=True)\n",
    "u_a = (U_fit-U0)/U_max_a\n",
    "u_c = (U_fit-U0)/U_max_c\n",
    "\n",
    "sigma_a = sigma_fit(u_a, theta_max_a, gamma_a, a0_a)\n",
    "sigma_c = -sigma_fit(u_c, theta_max_c, gamma_c, a0_c)\n",
    "C_a = np.gradient(sigma_a, dU)\n",
    "C_c = np.gradient(sigma_c, dU)\n",
    "\n",
    "# combination of capacitances\n",
    "gamma_ac = (max(gamma_c, gamma_a)/min(gamma_c, gamma_a))**(1./2)\n",
    "C_h = 0.5*(C_a+C_c)+ 0.5*(np.tanh(gamma_ac*u_a)*C_a-np.tanh(gamma_ac*u_c)*C_c)\n",
    "\n",
    "# smoothing\n",
    "window = sp.signal.gaussian(400, 20)\n",
    "# convolve the arrays\n",
    "sC_h = sp.signal.convolve(C_h, window/window.sum(), mode='same')\n",
    "\n",
    "fig, (ax1,ax2) = plt.subplots(ncols=2,figsize=(7,3.25))\n",
    "\n",
    "ax1.plot(U_fit, sigma_a, label='A')\n",
    "ax1.plot(U_fit, sigma_c, label='C')\n",
    "ax1.plot(chg_pot_cap[:,1],chg_pot_cap[:,0],'--',label='data',lw=5)\n",
    "ax1.set_xlabel('$U$ $V$')\n",
    "ax1.set_xlim(-60,60)\n",
    "ax1.set_ylabel('$\\sigma$ $\\mu C/cm^2$')\n",
    "ax1.legend(loc='best', fontsize=11)\n",
    "ax1.locator_params(axis = 'x',nbins=5)\n",
    "\n",
    "#ax2.plot(U_fit, C_a, label='C-a',alpha=.3)\n",
    "#ax2.plot(U_fit, C_c, label='C-c', alpha=.3)\n",
    "ax2.plot(U_fit, C_h, label='C', color=color_wheel[3])\n",
    "ax2.plot(U_fit, sC_h, label='C sm', color=color_wheel[5])\n",
    "ax2.plot(conv_pot,chg_pot_cap[:,2], '--',lw=5,  label='data',color=color_wheel[2])\n",
    "\n",
    "ax2.set_xlim(-15, 15)\n",
    "ax2.set_xlabel('$U$ $V$')\n",
    "ax2.set_ylabel(r'$C$ $(\\mathrm{\\mu F\\cdot cm^{-2}})$')\n",
    "ax2.locator_params(axis = 'x',nbins=5)\n",
    "\n",
    "ax2.legend(loc='best', fontsize=11)\n",
    "\n",
    "fig.tight_layout()\n",
    "#fig.savefig('../gfx/estimated_cap.png',dpi=300)"
   ]
  },
  {
   "cell_type": "code",
   "execution_count": null,
   "metadata": {},
   "outputs": [],
   "source": [
    "fig, (ax1) = plt.subplots(ncols=1,figsize=(7,7))\n",
    "\n",
    "ax1.plot(U_fit, sigma_a, label='A')\n",
    "ax1.plot(U_fit, sigma_c, label='C')\n",
    "ax1.plot(gromacs_data[:,0],gromacs_data[:,1],'o',label='data',lw=5)\n",
    "ax1.set_xlabel('$U$ $V$')\n",
    "ax1.set_xlim(-40,40)\n",
    "ax1.set_ylim(-130,130)\n",
    "ax1.set_ylabel('$\\sigma$ $\\mu C/cm^2$')\n",
    "ax1.legend(loc='best', fontsize=11)\n",
    "ax1.locator_params(axis = 'x',nbins=5)\n",
    "\n",
    "interp = sp.interpolate.InterpolatedUnivariateSpline(U_fit, sC_h, k=1)\n",
    "x_interp = np.linspace(-20, 20, num=1000)\n",
    "interp = interp.antiderivative()\n",
    "sigma_s = interp(x_interp) \n",
    "ax1.plot(x_interp, sigma_s - 130)"
   ]
  },
  {
   "cell_type": "code",
   "execution_count": null,
   "metadata": {},
   "outputs": [],
   "source": [
    "\n",
    "plt.figure(figsize=(3.25,3.25))\n",
    "plt.xlim(-10, 10)\n",
    "plt.xlabel('$U$ $V$')\n",
    "plt.ylabel(r'$C$ $(\\mathrm{\\mu F\\cdot cm^{-2}})$')\n",
    "#plt.plot(U_fit, C_h, '-', label='C-h',alpha=.1,color='k')\n",
    "#plt.plot(conv_pot,chg_pot_cap[:,2],'-' , label='fit',alpha=.1,color='k')\n",
    "\n",
    "import matplotlib.colors as colors\n",
    "import matplotlib.cm as cmx\n",
    "values = range(10)\n",
    "cmap = plt.cm.cool \n",
    "line_colors = cmap(np.linspace(0,1,5))\n",
    "\n",
    "smoothing_factor = [0.5, 1,  2.5, 5, 10]\n",
    "for i in range(len(smoothing_factor)):\n",
    "    # smoothing\n",
    "    window = sp.signal.gaussian(400, smoothing_factor[i])\n",
    "    # convolve the arrays\n",
    "    sC_h = sp.signal.convolve(C_h, window/window.sum(), mode='same')\n",
    "    plt.plot(U_fit, sC_h,label='sC-h'+str(smoothing_factor), alpha=1, color=line_colors[i])\n",
    "\n",
    "\n",
    "# plt.plot(U_fit, sigma_a, label='A')\n",
    "# plt.plot(U_fit, sigma_c, label='C')\n",
    "# plt.xlabel('reduced V')\n",
    "# plt.ylabel('sigma microC/cm2')\n",
    "# plt.legend(loc='best')\n",
    "\n",
    "# plt.show()\n",
    "#plt.plot(U_fit, C_a, label='C-a')\n",
    "#plt.plot(U_fit, C_c, label='C-c')\n",
    "plt.tight_layout()\n",
    "#plt.savefig('../gfx/smoothing_factor.png',dpi=300)"
   ]
  },
  {
   "cell_type": "code",
   "execution_count": null,
   "metadata": {},
   "outputs": [],
   "source": [
    "# data\n",
    "U0 = .17          # V\n",
    "U_max_a =  2.92238593e+01\n",
    "U_max_c =  1.48911278e+01#-2.64117427e+01#\n",
    "theta_max_a = -98  # microC/cm^2\n",
    "theta_max_c = 40#60#  # microC/cm^2\n",
    "\n",
    "# fitted values\n",
    "gamma_c = 1.6230877\n",
    "a0_c = 0.68479482\n",
    "gamma_a = 162.01022641\n",
    "a0_a = 0.71178643\n",
    "\n",
    "\n",
    "u = np.linspace(-2, 2,1000)\n",
    "plt.plot(u*U_max_a, a0_a + (1-a0_a)*np.exp(-gamma_a*u**2))\n",
    "plt.xlim(-10,10)"
   ]
  },
  {
   "cell_type": "code",
   "execution_count": null,
   "metadata": {},
   "outputs": [],
   "source": [
    "# data\n",
    "U0 = .17          # V\n",
    "U_max_a =  2.92238593e+01\n",
    "U_max_c =  1.48911278e+01#-2.64117427e+01#\n",
    "theta_max_a = -98  # microC/cm^2\n",
    "theta_max_c = 40#60#  # microC/cm^2\n",
    "\n",
    "# fitted values\n",
    "gamma_c = 1.6230877\n",
    "a0_c = 0.68479482\n",
    "gamma_a = 162.01022641\n",
    "a0_a = 0.71178643\n",
    "\n",
    "\n",
    "u = np.linspace(-2, 2,1000)\n",
    "plt.plot(u*U_max_c, a0_c + (1-a0_c)*np.exp(-gamma_c*u**2))\n",
    "#plt.xlim(-10,10)"
   ]
  },
  {
   "cell_type": "markdown",
   "metadata": {},
   "source": [
    "# Calculating a"
   ]
  },
  {
   "cell_type": "code",
   "execution_count": null,
   "metadata": {},
   "outputs": [],
   "source": [
    "sigma_r = np.r_[(chg_pot_cap[:,0]/theta_max_c)[chg_pot_cap[:,0]<=0], -(chg_pot_cap[:,0]/theta_max_a)[chg_pot_cap[:,0]>0]]\n",
    "u_r = np.r_[(chg_pot_cap[:,1]/U_max_c)[chg_pot_cap[:,0]<=0], (chg_pot_cap[:,1]/U_max_a)[chg_pot_cap[:,0]>0]]"
   ]
  },
  {
   "cell_type": "code",
   "execution_count": null,
   "metadata": {},
   "outputs": [],
   "source": [
    "sigma_r = (chg_pot_cap[:,0]/theta_max_c)[chg_pot_cap[:,0]<=0]\n",
    "u_r  = (chg_pot_cap[:,1]/U_max_c)[chg_pot_cap[:,0]<=0]\n",
    "\n",
    "# plt.plot(u_r, sigma_r)\n",
    "# plt.show()\n",
    "plt.plot(u_r, a0_c + (1-a0_c)*np.exp(-gamma_c*-u_r*2))\n",
    "\n",
    "plt.plot(u_r, np.log(-sigma_r)/np.log(-u_r))\n",
    "# plt.xlim(-1.3,0)\n",
    "plt.ylim(0,1)"
   ]
  },
  {
   "cell_type": "code",
   "execution_count": null,
   "metadata": {},
   "outputs": [],
   "source": [
    "sigma_r = -(chg_pot_cap[:,0]/theta_max_a)[chg_pot_cap[:,0]>0]\n",
    "u_r  = (chg_pot_cap[:,1]/U_max_a)[chg_pot_cap[:,0]>0]\n",
    "\n",
    "plt.plot(u_r, sigma_r)\n",
    "plt.show()\n",
    "plt.plot(u_r, a0_a + (1-a0_a)*np.exp(-gamma_a*u_r/80),)\n",
    "\n",
    "plt.plot(u_r, np.log(sigma_r)/np.log(u_r),'--')\n",
    "plt.ylim(0,1)\n",
    "plt.xlim(0,1.3)"
   ]
  },
  {
   "cell_type": "code",
   "execution_count": null,
   "metadata": {},
   "outputs": [],
   "source": [
    "pwd"
   ]
  },
  {
   "cell_type": "code",
   "execution_count": null,
   "metadata": {
    "collapsed": true
   },
   "outputs": [],
   "source": []
  },
  {
   "cell_type": "code",
   "execution_count": null,
   "metadata": {
    "collapsed": true
   },
   "outputs": [],
   "source": []
  },
  {
   "cell_type": "code",
   "execution_count": null,
   "metadata": {
    "collapsed": true
   },
   "outputs": [],
   "source": []
  },
  {
   "cell_type": "code",
   "execution_count": null,
   "metadata": {
    "collapsed": true
   },
   "outputs": [],
   "source": []
  },
  {
   "cell_type": "code",
   "execution_count": null,
   "metadata": {
    "collapsed": true
   },
   "outputs": [],
   "source": []
  },
  {
   "cell_type": "code",
   "execution_count": 13,
   "metadata": {
    "scrolled": true
   },
   "outputs": [
    {
     "data": {
      "text/plain": [
       "<matplotlib.legend.Legend at 0x7ffaf17fa190>"
      ]
     },
     "execution_count": 13,
     "metadata": {},
     "output_type": "execute_result"
    },
    {
     "data": {
      "image/png": "[encoded data removed]",
      "text/plain": [
       "<matplotlib.figure.Figure at 0x7ffaded4f5d0>"
      ]
     },
     "metadata": {},
     "output_type": "display_data"
    }
   ],
   "source": [
    "# directory containing base directories for simulations with different electrode surface charges\n",
    "base_path = '/data/Julia/AuBmimPF6/Experiments/A3/BMImPF6/450/a'\n",
    "\n",
    "# surface charges to analyze\n",
    "surf_chgs = [dirs for dirs in os.listdir(base_path) \n",
    "              if os.path.isdir(os.path.join(base_path, dirs)) and '.' in dirs]\n",
    "surf_chgs = sorted(surf_chgs, key=float)\n",
    "\n",
    "\n",
    "replicas = ['0','1','2','3','4']              # which replicas to analyze for each charge\n",
    "for r in replicas:\n",
    "    chg_name='charge.xvg'                   # the name of text file containign values of charge depending on z\n",
    "    generic_data_path = base_path + '/{surf_chg}'  # should reflect directory structure\n",
    "    # optional\n",
    "    pot_name = 'potential_mod.xvg'              # the name of text file containign values of potential depending on z\n",
    "    field_name = 'field_mod.xvg'                # the name of text file containign values of field depending on z\n",
    "    walls=None\n",
    "    #A2 0.551 17.225 0.072\n",
    "    #A3 0.825 17.499 0.072\n",
    "    walls = (0.825, 17.499)         #0.072 is a half space between Au-Au layers\n",
    "    set_chg = False  # x-y dimensions in nm\n",
    "    debug = True  # extra printing and plotting\n",
    "    if debug:\n",
    "        log.setLevel(level=logging.DEBUG)\n",
    "\n",
    "    simulations = []\n",
    "    for surf_chg in surf_chgs:\n",
    "        p = generic_data_path.format(surf_chg=surf_chg)\n",
    "        try:\n",
    "            chsim = ChgSimulation(p, chg_name=chg_name, replicas=r, field_name=field_name, \n",
    "                                  pot_name=pot_name, walls=walls, set_chg=set_chg)\n",
    "            simulations.append(chsim)\n",
    "\n",
    "            #print surf_chg\n",
    "            #chsim.plot()\n",
    "        except IOError:\n",
    "            log.info('Simulations for surf_chg = {} were not found!, skipping!'.format(surf_chg))\n",
    "        except Exception as e:\n",
    "            log.exception(e)\n",
    "            chsim = ChgSimulation(p, chg_name=chg_name, replicas=replicas, field_name=field_name, \n",
    "                                  pot_name=pot_name, walls=walls, log=log)\n",
    "    pots0 = compute_potentials(simulations, exclude_outliers=True)\n",
    "    #pots1 = compute_potentials(simulations, -.1)\n",
    "    #pots2 = compute_potentials(simulations, .1)\n",
    "    plt.plot(pots0[:,0], pots0[:,1],'o', alpha=.3, label=r)\n",
    "plt.legend()\n"
   ]
  },
  {
   "cell_type": "code",
   "execution_count": 7,
   "metadata": {
    "scrolled": true
   },
   "outputs": [
    {
     "data": {
      "text/plain": [
       "<matplotlib.text.Text at 0x7ffadebbb710>"
      ]
     },
     "execution_count": 7,
     "metadata": {},
     "output_type": "execute_result"
    },
    {
     "data": {
      "image/png": "[encoded data removed]",
      "text/plain": [
       "<matplotlib.figure.Figure at 0x7ffadecfc910>"
      ]
     },
     "metadata": {},
     "output_type": "display_data"
    }
   ],
   "source": [
    "log.setLevel(logging.INFO)\n",
    "\n",
    "pots0 = compute_potentials(simulations, exclude_outliers=True)\n",
    "#pots1 = compute_potentials(simulations, -.1)\n",
    "#pots2 = compute_potentials(simulations, .1)\n",
    "\n",
    "plt.plot(pots0[:,0], pots0[:,1],'.')\n",
    "#plt.plot(pots1[:,0], pots1[:,1],'o')\n",
    "#plt.plot(pots2[:,0], pots2[:,1],'o')\n",
    "plt.xlabel('U (V)')\n",
    "plt.ylabel(r'$\\sigma$ $(\\mathrm{mC\\cdot cm^{-2}})$')\n"
   ]
  }
 ],
 "metadata": {
  "anaconda-cloud": {},
  "kernelspec": {
   "display_name": "Python [default]",
   "language": "python",
   "name": "python2"
  },
  "language_info": {
   "codemirror_mode": {
    "name": "ipython",
    "version": 2
   },
   "file_extension": ".py",
   "mimetype": "text/x-python",
   "name": "python",
   "nbconvert_exporter": "python",
   "pygments_lexer": "ipython2",
   "version": "2.7.14"
  }
 },
 "nbformat": 4,
 "nbformat_minor": 1
}
